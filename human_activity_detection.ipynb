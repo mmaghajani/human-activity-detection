{
 "cells": [
  {
   "cell_type": "markdown",
   "metadata": {
    "collapsed": true
   },
   "source": [
    "## Human Activity Detection\n",
    "#### By MMA"
   ]
  },
  {
   "cell_type": "markdown",
   "metadata": {},
   "source": [
    "### Library Comparsion"
   ]
  },
  {
   "cell_type": "markdown",
   "metadata": {},
   "source": [
    "We use Numpy and Pandas for data wrangling and Matplotlib for visualization. For machine learning methods we use Scikit-learn.\n",
    "Image below is a comparsion between some libraries in data science with python."
   ]
  },
  {
   "cell_type": "markdown",
   "metadata": {},
   "source": [
    "<img src=\"graphs/table.png\">"
   ]
  },
  {
   "cell_type": "code",
   "execution_count": 1,
   "metadata": {},
   "outputs": [],
   "source": [
    "import numpy as np\n",
    "import pandas as pd\n",
    "import matplotlib as plt\n",
    "from sklearn.model_selection import train_test_split"
   ]
  },
  {
   "cell_type": "code",
   "execution_count": 3,
   "metadata": {},
   "outputs": [
    {
     "data": {
      "text/html": [
       "<div>\n",
       "<style scoped>\n",
       "    .dataframe tbody tr th:only-of-type {\n",
       "        vertical-align: middle;\n",
       "    }\n",
       "\n",
       "    .dataframe tbody tr th {\n",
       "        vertical-align: top;\n",
       "    }\n",
       "\n",
       "    .dataframe thead th {\n",
       "        text-align: right;\n",
       "    }\n",
       "</style>\n",
       "<table border=\"1\" class=\"dataframe\">\n",
       "  <thead>\n",
       "    <tr style=\"text-align: right;\">\n",
       "      <th></th>\n",
       "      <th>0</th>\n",
       "      <th>1</th>\n",
       "      <th>2</th>\n",
       "      <th>3</th>\n",
       "      <th>4</th>\n",
       "      <th>5</th>\n",
       "      <th>6</th>\n",
       "      <th>7</th>\n",
       "      <th>8</th>\n",
       "      <th>9</th>\n",
       "      <th>...</th>\n",
       "      <th>551</th>\n",
       "      <th>552</th>\n",
       "      <th>553</th>\n",
       "      <th>554</th>\n",
       "      <th>555</th>\n",
       "      <th>556</th>\n",
       "      <th>557</th>\n",
       "      <th>558</th>\n",
       "      <th>559</th>\n",
       "      <th>560</th>\n",
       "    </tr>\n",
       "  </thead>\n",
       "  <tbody>\n",
       "    <tr>\n",
       "      <th>0</th>\n",
       "      <td>0.037904</td>\n",
       "      <td>0.012925</td>\n",
       "      <td>-0.013689</td>\n",
       "      <td>-0.045571</td>\n",
       "      <td>-0.343143</td>\n",
       "      <td>-0.416919</td>\n",
       "      <td>-0.141622</td>\n",
       "      <td>-0.351800</td>\n",
       "      <td>-0.490640</td>\n",
       "      <td>0.265974</td>\n",
       "      <td>...</td>\n",
       "      <td>0.267889</td>\n",
       "      <td>-0.632583</td>\n",
       "      <td>-0.867665</td>\n",
       "      <td>0.205611</td>\n",
       "      <td>0.700000</td>\n",
       "      <td>-0.927855</td>\n",
       "      <td>0.901036</td>\n",
       "      <td>-0.701758</td>\n",
       "      <td>0.296156</td>\n",
       "      <td>-0.034695</td>\n",
       "    </tr>\n",
       "    <tr>\n",
       "      <th>1</th>\n",
       "      <td>0.057283</td>\n",
       "      <td>0.015833</td>\n",
       "      <td>-0.013797</td>\n",
       "      <td>-0.077374</td>\n",
       "      <td>-0.192615</td>\n",
       "      <td>-0.541552</td>\n",
       "      <td>-0.150634</td>\n",
       "      <td>-0.280586</td>\n",
       "      <td>-0.608955</td>\n",
       "      <td>0.459535</td>\n",
       "      <td>...</td>\n",
       "      <td>0.107306</td>\n",
       "      <td>0.049519</td>\n",
       "      <td>-0.287429</td>\n",
       "      <td>-0.258125</td>\n",
       "      <td>-0.394798</td>\n",
       "      <td>0.890667</td>\n",
       "      <td>0.550559</td>\n",
       "      <td>-0.672650</td>\n",
       "      <td>0.324258</td>\n",
       "      <td>0.038681</td>\n",
       "    </tr>\n",
       "    <tr>\n",
       "      <th>2</th>\n",
       "      <td>0.037699</td>\n",
       "      <td>0.002941</td>\n",
       "      <td>-0.012245</td>\n",
       "      <td>-0.968280</td>\n",
       "      <td>-0.975078</td>\n",
       "      <td>-0.956073</td>\n",
       "      <td>-0.975069</td>\n",
       "      <td>-0.974546</td>\n",
       "      <td>-0.960428</td>\n",
       "      <td>-0.758132</td>\n",
       "      <td>...</td>\n",
       "      <td>-0.082006</td>\n",
       "      <td>-0.050775</td>\n",
       "      <td>-0.412441</td>\n",
       "      <td>0.034826</td>\n",
       "      <td>0.298732</td>\n",
       "      <td>-0.673881</td>\n",
       "      <td>-0.246712</td>\n",
       "      <td>-0.884181</td>\n",
       "      <td>0.023061</td>\n",
       "      <td>-0.014130</td>\n",
       "    </tr>\n",
       "    <tr>\n",
       "      <th>3</th>\n",
       "      <td>0.036299</td>\n",
       "      <td>-0.005709</td>\n",
       "      <td>-0.038847</td>\n",
       "      <td>-0.995513</td>\n",
       "      <td>-0.983236</td>\n",
       "      <td>-0.959428</td>\n",
       "      <td>-0.995690</td>\n",
       "      <td>-0.981630</td>\n",
       "      <td>-0.961181</td>\n",
       "      <td>-0.801402</td>\n",
       "      <td>...</td>\n",
       "      <td>0.460762</td>\n",
       "      <td>-0.856664</td>\n",
       "      <td>-0.969965</td>\n",
       "      <td>-0.008515</td>\n",
       "      <td>0.197218</td>\n",
       "      <td>0.671482</td>\n",
       "      <td>0.017963</td>\n",
       "      <td>-0.785923</td>\n",
       "      <td>0.208677</td>\n",
       "      <td>0.126069</td>\n",
       "    </tr>\n",
       "    <tr>\n",
       "      <th>4</th>\n",
       "      <td>0.041461</td>\n",
       "      <td>-0.001834</td>\n",
       "      <td>-0.021799</td>\n",
       "      <td>-0.983764</td>\n",
       "      <td>-0.982029</td>\n",
       "      <td>-0.988562</td>\n",
       "      <td>-0.983998</td>\n",
       "      <td>-0.982294</td>\n",
       "      <td>-0.989724</td>\n",
       "      <td>-0.789060</td>\n",
       "      <td>...</td>\n",
       "      <td>0.357372</td>\n",
       "      <td>-0.850203</td>\n",
       "      <td>-0.970749</td>\n",
       "      <td>0.220054</td>\n",
       "      <td>0.079717</td>\n",
       "      <td>0.270040</td>\n",
       "      <td>0.346673</td>\n",
       "      <td>0.417089</td>\n",
       "      <td>-0.275779</td>\n",
       "      <td>-0.705617</td>\n",
       "    </tr>\n",
       "  </tbody>\n",
       "</table>\n",
       "<p>5 rows × 561 columns</p>\n",
       "</div>"
      ],
      "text/plain": [
       "<div>\n",
       "<style scoped>\n",
       "    .dataframe tbody tr th:only-of-type {\n",
       "        vertical-align: middle;\n",
       "    }\n",
       "\n",
       "    .dataframe tbody tr th {\n",
       "        vertical-align: top;\n",
       "    }\n",
       "\n",
       "    .dataframe thead th {\n",
       "        text-align: right;\n",
       "    }\n",
       "</style>\n",
       "<table border=\"1\" class=\"dataframe\">\n",
       "  <thead>\n",
       "    <tr style=\"text-align: right;\">\n",
       "      <th></th>\n",
       "      <th>0</th>\n",
       "      <th>1</th>\n",
       "      <th>2</th>\n",
       "      <th>3</th>\n",
       "      <th>4</th>\n",
       "      <th>5</th>\n",
       "      <th>6</th>\n",
       "      <th>7</th>\n",
       "      <th>8</th>\n",
       "      <th>9</th>\n",
       "      <th>...</th>\n",
       "      <th>551</th>\n",
       "      <th>552</th>\n",
       "      <th>553</th>\n",
       "      <th>554</th>\n",
       "      <th>555</th>\n",
       "      <th>556</th>\n",
       "      <th>557</th>\n",
       "      <th>558</th>\n",
       "      <th>559</th>\n",
       "      <th>560</th>\n",
       "    </tr>\n",
       "  </thead>\n",
       "  <tbody>\n",
       "    <tr>\n",
       "      <th>0</th>\n",
       "      <td>0.037904</td>\n",
       "      <td>0.012925</td>\n",
       "      <td>-0.013689</td>\n",
       "      <td>-0.045571</td>\n",
       "      <td>-0.343143</td>\n",
       "      <td>-0.416919</td>\n",
       "      <td>-0.141622</td>\n",
       "      <td>-0.351800</td>\n",
       "      <td>-0.490640</td>\n",
       "      <td>0.265974</td>\n",
       "      <td>...</td>\n",
       "      <td>0.267889</td>\n",
       "      <td>-0.632583</td>\n",
       "      <td>-0.867665</td>\n",
       "      <td>0.205611</td>\n",
       "      <td>0.700000</td>\n",
       "      <td>-0.927855</td>\n",
       "      <td>0.901036</td>\n",
       "      <td>-0.701758</td>\n",
       "      <td>0.296156</td>\n",
       "      <td>-0.034695</td>\n",
       "    </tr>\n",
       "    <tr>\n",
       "      <th>1</th>\n",
       "      <td>0.057283</td>\n",
       "      <td>0.015833</td>\n",
       "      <td>-0.013797</td>\n",
       "      <td>-0.077374</td>\n",
       "      <td>-0.192615</td>\n",
       "      <td>-0.541552</td>\n",
       "      <td>-0.150634</td>\n",
       "      <td>-0.280586</td>\n",
       "      <td>-0.608955</td>\n",
       "      <td>0.459535</td>\n",
       "      <td>...</td>\n",
       "      <td>0.107306</td>\n",
       "      <td>0.049519</td>\n",
       "      <td>-0.287429</td>\n",
       "      <td>-0.258125</td>\n",
       "      <td>-0.394798</td>\n",
       "      <td>0.890667</td>\n",
       "      <td>0.550559</td>\n",
       "      <td>-0.672650</td>\n",
       "      <td>0.324258</td>\n",
       "      <td>0.038681</td>\n",
       "    </tr>\n",
       "    <tr>\n",
       "      <th>2</th>\n",
       "      <td>0.037699</td>\n",
       "      <td>0.002941</td>\n",
       "      <td>-0.012245</td>\n",
       "      <td>-0.968280</td>\n",
       "      <td>-0.975078</td>\n",
       "      <td>-0.956073</td>\n",
       "      <td>-0.975069</td>\n",
       "      <td>-0.974546</td>\n",
       "      <td>-0.960428</td>\n",
       "      <td>-0.758132</td>\n",
       "      <td>...</td>\n",
       "      <td>-0.082006</td>\n",
       "      <td>-0.050775</td>\n",
       "      <td>-0.412441</td>\n",
       "      <td>0.034826</td>\n",
       "      <td>0.298732</td>\n",
       "      <td>-0.673881</td>\n",
       "      <td>-0.246712</td>\n",
       "      <td>-0.884181</td>\n",
       "      <td>0.023061</td>\n",
       "      <td>-0.014130</td>\n",
       "    </tr>\n",
       "    <tr>\n",
       "      <th>3</th>\n",
       "      <td>0.036299</td>\n",
       "      <td>-0.005709</td>\n",
       "      <td>-0.038847</td>\n",
       "      <td>-0.995513</td>\n",
       "      <td>-0.983236</td>\n",
       "      <td>-0.959428</td>\n",
       "      <td>-0.995690</td>\n",
       "      <td>-0.981630</td>\n",
       "      <td>-0.961181</td>\n",
       "      <td>-0.801402</td>\n",
       "      <td>...</td>\n",
       "      <td>0.460762</td>\n",
       "      <td>-0.856664</td>\n",
       "      <td>-0.969965</td>\n",
       "      <td>-0.008515</td>\n",
       "      <td>0.197218</td>\n",
       "      <td>0.671482</td>\n",
       "      <td>0.017963</td>\n",
       "      <td>-0.785923</td>\n",
       "      <td>0.208677</td>\n",
       "      <td>0.126069</td>\n",
       "    </tr>\n",
       "    <tr>\n",
       "      <th>4</th>\n",
       "      <td>0.041461</td>\n",
       "      <td>-0.001834</td>\n",
       "      <td>-0.021799</td>\n",
       "      <td>-0.983764</td>\n",
       "      <td>-0.982029</td>\n",
       "      <td>-0.988562</td>\n",
       "      <td>-0.983998</td>\n",
       "      <td>-0.982294</td>\n",
       "      <td>-0.989724</td>\n",
       "      <td>-0.789060</td>\n",
       "      <td>...</td>\n",
       "      <td>0.357372</td>\n",
       "      <td>-0.850203</td>\n",
       "      <td>-0.970749</td>\n",
       "      <td>0.220054</td>\n",
       "      <td>0.079717</td>\n",
       "      <td>0.270040</td>\n",
       "      <td>0.346673</td>\n",
       "      <td>0.417089</td>\n",
       "      <td>-0.275779</td>\n",
       "      <td>-0.705617</td>\n",
       "    </tr>\n",
       "  </tbody>\n",
       "</table>\n",
       "<p>5 rows × 561 columns</p>\n",
       "</div>"
      ]
     },
     "execution_count": 3,
     "metadata": {},
     "output_type": "execute_result"
    }
   ],
   "source": [
    "data_X = pd.read_csv('data/Train/X_train.txt', sep=\" \", header=None)\n",
    "data_X.head()"
   ]
  },
  {
   "cell_type": "code",
   "execution_count": 4,
   "metadata": {},
   "outputs": [
    {
     "data": {
      "text/html": [
       "<div>\n",
       "<style scoped>\n",
       "    .dataframe tbody tr th:only-of-type {\n",
       "        vertical-align: middle;\n",
       "    }\n",
       "\n",
       "    .dataframe tbody tr th {\n",
       "        vertical-align: top;\n",
       "    }\n",
       "\n",
       "    .dataframe thead th {\n",
       "        text-align: right;\n",
       "    }\n",
       "</style>\n",
       "<table border=\"1\" class=\"dataframe\">\n",
       "  <thead>\n",
       "    <tr style=\"text-align: right;\">\n",
       "      <th></th>\n",
       "      <th>0</th>\n",
       "    </tr>\n",
       "  </thead>\n",
       "  <tbody>\n",
       "    <tr>\n",
       "      <th>0</th>\n",
       "      <td>2</td>\n",
       "    </tr>\n",
       "    <tr>\n",
       "      <th>1</th>\n",
       "      <td>2</td>\n",
       "    </tr>\n",
       "    <tr>\n",
       "      <th>2</th>\n",
       "      <td>4</td>\n",
       "    </tr>\n",
       "    <tr>\n",
       "      <th>3</th>\n",
       "      <td>5</td>\n",
       "    </tr>\n",
       "    <tr>\n",
       "      <th>4</th>\n",
       "      <td>6</td>\n",
       "    </tr>\n",
       "  </tbody>\n",
       "</table>\n",
       "</div>"
      ],
      "text/plain": [
       "<div>\n",
       "<style scoped>\n",
       "    .dataframe tbody tr th:only-of-type {\n",
       "        vertical-align: middle;\n",
       "    }\n",
       "\n",
       "    .dataframe tbody tr th {\n",
       "        vertical-align: top;\n",
       "    }\n",
       "\n",
       "    .dataframe thead th {\n",
       "        text-align: right;\n",
       "    }\n",
       "</style>\n",
       "<table border=\"1\" class=\"dataframe\">\n",
       "  <thead>\n",
       "    <tr style=\"text-align: right;\">\n",
       "      <th></th>\n",
       "      <th>0</th>\n",
       "    </tr>\n",
       "  </thead>\n",
       "  <tbody>\n",
       "    <tr>\n",
       "      <th>0</th>\n",
       "      <td>2</td>\n",
       "    </tr>\n",
       "    <tr>\n",
       "      <th>1</th>\n",
       "      <td>2</td>\n",
       "    </tr>\n",
       "    <tr>\n",
       "      <th>2</th>\n",
       "      <td>4</td>\n",
       "    </tr>\n",
       "    <tr>\n",
       "      <th>3</th>\n",
       "      <td>5</td>\n",
       "    </tr>\n",
       "    <tr>\n",
       "      <th>4</th>\n",
       "      <td>6</td>\n",
       "    </tr>\n",
       "  </tbody>\n",
       "</table>\n",
       "</div>"
      ]
     },
     "execution_count": 4,
     "metadata": {},
     "output_type": "execute_result"
    }
   ],
   "source": [
    "data_Y = pd.read_csv('data/Train/y_train.txt', header=None)\n",
    "data_Y.head()"
   ]
  },
  {
   "cell_type": "code",
   "execution_count": 5,
   "metadata": {},
   "outputs": [],
   "source": [
    "X_train, X_test, Y_train, Y_test = train_test_split(data_X, data_Y, test_size=0.1, random_state=42)\n",
    "Y_train = pd.DataFrame(np.array(Y_train).reshape((len(X_train),)))\n",
    "Y_test = pd.DataFrame(np.array(Y_test).reshape((len(X_test),)))"
   ]
  },
  {
   "cell_type": "code",
   "execution_count": 6,
   "metadata": {},
   "outputs": [
    {
     "data": {
      "text/html": [
       "<div>\n",
       "<style scoped>\n",
       "    .dataframe tbody tr th:only-of-type {\n",
       "        vertical-align: middle;\n",
       "    }\n",
       "\n",
       "    .dataframe tbody tr th {\n",
       "        vertical-align: top;\n",
       "    }\n",
       "\n",
       "    .dataframe thead th {\n",
       "        text-align: right;\n",
       "    }\n",
       "</style>\n",
       "<table border=\"1\" class=\"dataframe\">\n",
       "  <thead>\n",
       "    <tr style=\"text-align: right;\">\n",
       "      <th></th>\n",
       "      <th>0</th>\n",
       "      <th>1</th>\n",
       "      <th>2</th>\n",
       "      <th>3</th>\n",
       "      <th>4</th>\n",
       "      <th>5</th>\n",
       "      <th>6</th>\n",
       "      <th>7</th>\n",
       "      <th>8</th>\n",
       "      <th>9</th>\n",
       "      <th>...</th>\n",
       "      <th>551</th>\n",
       "      <th>552</th>\n",
       "      <th>553</th>\n",
       "      <th>554</th>\n",
       "      <th>555</th>\n",
       "      <th>556</th>\n",
       "      <th>557</th>\n",
       "      <th>558</th>\n",
       "      <th>559</th>\n",
       "      <th>560</th>\n",
       "    </tr>\n",
       "  </thead>\n",
       "  <tbody>\n",
       "    <tr>\n",
       "      <th>count</th>\n",
       "      <td>6990.000000</td>\n",
       "      <td>6990.000000</td>\n",
       "      <td>6990.000000</td>\n",
       "      <td>6990.000000</td>\n",
       "      <td>6990.000000</td>\n",
       "      <td>6990.000000</td>\n",
       "      <td>6990.000000</td>\n",
       "      <td>6990.000000</td>\n",
       "      <td>6990.000000</td>\n",
       "      <td>6990.000000</td>\n",
       "      <td>...</td>\n",
       "      <td>6990.000000</td>\n",
       "      <td>6990.000000</td>\n",
       "      <td>6990.000000</td>\n",
       "      <td>6990.000000</td>\n",
       "      <td>6990.000000</td>\n",
       "      <td>6990.000000</td>\n",
       "      <td>6990.000000</td>\n",
       "      <td>6990.000000</td>\n",
       "      <td>6990.000000</td>\n",
       "      <td>6990.000000</td>\n",
       "    </tr>\n",
       "    <tr>\n",
       "      <th>mean</th>\n",
       "      <td>0.039143</td>\n",
       "      <td>-0.000799</td>\n",
       "      <td>-0.018371</td>\n",
       "      <td>-0.604875</td>\n",
       "      <td>-0.634658</td>\n",
       "      <td>-0.698358</td>\n",
       "      <td>-0.630115</td>\n",
       "      <td>-0.658035</td>\n",
       "      <td>-0.746567</td>\n",
       "      <td>-0.362286</td>\n",
       "      <td>...</td>\n",
       "      <td>0.159877</td>\n",
       "      <td>-0.307924</td>\n",
       "      <td>-0.616777</td>\n",
       "      <td>0.013543</td>\n",
       "      <td>0.015018</td>\n",
       "      <td>0.028012</td>\n",
       "      <td>-0.015226</td>\n",
       "      <td>-0.488537</td>\n",
       "      <td>0.052003</td>\n",
       "      <td>-0.051906</td>\n",
       "    </tr>\n",
       "    <tr>\n",
       "      <th>std</th>\n",
       "      <td>0.101338</td>\n",
       "      <td>0.098373</td>\n",
       "      <td>0.088549</td>\n",
       "      <td>0.431404</td>\n",
       "      <td>0.366245</td>\n",
       "      <td>0.310474</td>\n",
       "      <td>0.407792</td>\n",
       "      <td>0.347049</td>\n",
       "      <td>0.262804</td>\n",
       "      <td>0.493275</td>\n",
       "      <td>...</td>\n",
       "      <td>0.232873</td>\n",
       "      <td>0.314295</td>\n",
       "      <td>0.304620</td>\n",
       "      <td>0.329713</td>\n",
       "      <td>0.442343</td>\n",
       "      <td>0.605128</td>\n",
       "      <td>0.484881</td>\n",
       "      <td>0.512083</td>\n",
       "      <td>0.312250</td>\n",
       "      <td>0.267750</td>\n",
       "    </tr>\n",
       "    <tr>\n",
       "      <th>min</th>\n",
       "      <td>-0.936967</td>\n",
       "      <td>-1.000000</td>\n",
       "      <td>-1.000000</td>\n",
       "      <td>-1.000000</td>\n",
       "      <td>-1.000000</td>\n",
       "      <td>-1.000000</td>\n",
       "      <td>-0.999895</td>\n",
       "      <td>-1.000000</td>\n",
       "      <td>-1.000000</td>\n",
       "      <td>-1.000000</td>\n",
       "      <td>...</td>\n",
       "      <td>-1.000000</td>\n",
       "      <td>-0.966187</td>\n",
       "      <td>-0.995967</td>\n",
       "      <td>-1.000000</td>\n",
       "      <td>-1.000000</td>\n",
       "      <td>-0.999790</td>\n",
       "      <td>-1.000000</td>\n",
       "      <td>-0.999381</td>\n",
       "      <td>-1.000000</td>\n",
       "      <td>-1.000000</td>\n",
       "    </tr>\n",
       "    <tr>\n",
       "      <th>25%</th>\n",
       "      <td>0.031892</td>\n",
       "      <td>-0.011130</td>\n",
       "      <td>-0.028456</td>\n",
       "      <td>-0.991607</td>\n",
       "      <td>-0.982807</td>\n",
       "      <td>-0.983834</td>\n",
       "      <td>-0.992464</td>\n",
       "      <td>-0.983626</td>\n",
       "      <td>-0.985990</td>\n",
       "      <td>-0.795255</td>\n",
       "      <td>...</td>\n",
       "      <td>0.023089</td>\n",
       "      <td>-0.545471</td>\n",
       "      <td>-0.841413</td>\n",
       "      <td>-0.109127</td>\n",
       "      <td>-0.263267</td>\n",
       "      <td>-0.458804</td>\n",
       "      <td>-0.402212</td>\n",
       "      <td>-0.817376</td>\n",
       "      <td>-0.036701</td>\n",
       "      <td>-0.130306</td>\n",
       "    </tr>\n",
       "    <tr>\n",
       "      <th>50%</th>\n",
       "      <td>0.038896</td>\n",
       "      <td>-0.002837</td>\n",
       "      <td>-0.019596</td>\n",
       "      <td>-0.904155</td>\n",
       "      <td>-0.799821</td>\n",
       "      <td>-0.818131</td>\n",
       "      <td>-0.920756</td>\n",
       "      <td>-0.827448</td>\n",
       "      <td>-0.847948</td>\n",
       "      <td>-0.713473</td>\n",
       "      <td>...</td>\n",
       "      <td>0.169018</td>\n",
       "      <td>-0.344783</td>\n",
       "      <td>-0.702373</td>\n",
       "      <td>0.015606</td>\n",
       "      <td>0.023090</td>\n",
       "      <td>0.025240</td>\n",
       "      <td>-0.018398</td>\n",
       "      <td>-0.710261</td>\n",
       "      <td>0.175725</td>\n",
       "      <td>0.001115</td>\n",
       "    </tr>\n",
       "    <tr>\n",
       "      <th>75%</th>\n",
       "      <td>0.043908</td>\n",
       "      <td>0.004439</td>\n",
       "      <td>-0.011540</td>\n",
       "      <td>-0.259769</td>\n",
       "      <td>-0.326465</td>\n",
       "      <td>-0.463097</td>\n",
       "      <td>-0.308441</td>\n",
       "      <td>-0.375197</td>\n",
       "      <td>-0.555398</td>\n",
       "      <td>0.047850</td>\n",
       "      <td>...</td>\n",
       "      <td>0.314213</td>\n",
       "      <td>-0.124420</td>\n",
       "      <td>-0.487175</td>\n",
       "      <td>0.164437</td>\n",
       "      <td>0.309241</td>\n",
       "      <td>0.536184</td>\n",
       "      <td>0.350848</td>\n",
       "      <td>-0.493587</td>\n",
       "      <td>0.248712</td>\n",
       "      <td>0.104101</td>\n",
       "    </tr>\n",
       "    <tr>\n",
       "      <th>max</th>\n",
       "      <td>1.000000</td>\n",
       "      <td>1.000000</td>\n",
       "      <td>1.000000</td>\n",
       "      <td>1.000000</td>\n",
       "      <td>1.000000</td>\n",
       "      <td>0.821096</td>\n",
       "      <td>1.000000</td>\n",
       "      <td>1.000000</td>\n",
       "      <td>0.722859</td>\n",
       "      <td>1.000000</td>\n",
       "      <td>...</td>\n",
       "      <td>1.000000</td>\n",
       "      <td>0.909870</td>\n",
       "      <td>0.897665</td>\n",
       "      <td>0.980889</td>\n",
       "      <td>0.998425</td>\n",
       "      <td>1.000000</td>\n",
       "      <td>1.000000</td>\n",
       "      <td>0.973651</td>\n",
       "      <td>0.999927</td>\n",
       "      <td>0.998384</td>\n",
       "    </tr>\n",
       "  </tbody>\n",
       "</table>\n",
       "<p>8 rows × 561 columns</p>\n",
       "</div>"
      ],
      "text/plain": [
       "<div>\n",
       "<style scoped>\n",
       "    .dataframe tbody tr th:only-of-type {\n",
       "        vertical-align: middle;\n",
       "    }\n",
       "\n",
       "    .dataframe tbody tr th {\n",
       "        vertical-align: top;\n",
       "    }\n",
       "\n",
       "    .dataframe thead th {\n",
       "        text-align: right;\n",
       "    }\n",
       "</style>\n",
       "<table border=\"1\" class=\"dataframe\">\n",
       "  <thead>\n",
       "    <tr style=\"text-align: right;\">\n",
       "      <th></th>\n",
       "      <th>0</th>\n",
       "      <th>1</th>\n",
       "      <th>2</th>\n",
       "      <th>3</th>\n",
       "      <th>4</th>\n",
       "      <th>5</th>\n",
       "      <th>6</th>\n",
       "      <th>7</th>\n",
       "      <th>8</th>\n",
       "      <th>9</th>\n",
       "      <th>...</th>\n",
       "      <th>551</th>\n",
       "      <th>552</th>\n",
       "      <th>553</th>\n",
       "      <th>554</th>\n",
       "      <th>555</th>\n",
       "      <th>556</th>\n",
       "      <th>557</th>\n",
       "      <th>558</th>\n",
       "      <th>559</th>\n",
       "      <th>560</th>\n",
       "    </tr>\n",
       "  </thead>\n",
       "  <tbody>\n",
       "    <tr>\n",
       "      <th>count</th>\n",
       "      <td>6990.000000</td>\n",
       "      <td>6990.000000</td>\n",
       "      <td>6990.000000</td>\n",
       "      <td>6990.000000</td>\n",
       "      <td>6990.000000</td>\n",
       "      <td>6990.000000</td>\n",
       "      <td>6990.000000</td>\n",
       "      <td>6990.000000</td>\n",
       "      <td>6990.000000</td>\n",
       "      <td>6990.000000</td>\n",
       "      <td>...</td>\n",
       "      <td>6990.000000</td>\n",
       "      <td>6990.000000</td>\n",
       "      <td>6990.000000</td>\n",
       "      <td>6990.000000</td>\n",
       "      <td>6990.000000</td>\n",
       "      <td>6990.000000</td>\n",
       "      <td>6990.000000</td>\n",
       "      <td>6990.000000</td>\n",
       "      <td>6990.000000</td>\n",
       "      <td>6990.000000</td>\n",
       "    </tr>\n",
       "    <tr>\n",
       "      <th>mean</th>\n",
       "      <td>0.039143</td>\n",
       "      <td>-0.000799</td>\n",
       "      <td>-0.018371</td>\n",
       "      <td>-0.604875</td>\n",
       "      <td>-0.634658</td>\n",
       "      <td>-0.698358</td>\n",
       "      <td>-0.630115</td>\n",
       "      <td>-0.658035</td>\n",
       "      <td>-0.746567</td>\n",
       "      <td>-0.362286</td>\n",
       "      <td>...</td>\n",
       "      <td>0.159877</td>\n",
       "      <td>-0.307924</td>\n",
       "      <td>-0.616777</td>\n",
       "      <td>0.013543</td>\n",
       "      <td>0.015018</td>\n",
       "      <td>0.028012</td>\n",
       "      <td>-0.015226</td>\n",
       "      <td>-0.488537</td>\n",
       "      <td>0.052003</td>\n",
       "      <td>-0.051906</td>\n",
       "    </tr>\n",
       "    <tr>\n",
       "      <th>std</th>\n",
       "      <td>0.101338</td>\n",
       "      <td>0.098373</td>\n",
       "      <td>0.088549</td>\n",
       "      <td>0.431404</td>\n",
       "      <td>0.366245</td>\n",
       "      <td>0.310474</td>\n",
       "      <td>0.407792</td>\n",
       "      <td>0.347049</td>\n",
       "      <td>0.262804</td>\n",
       "      <td>0.493275</td>\n",
       "      <td>...</td>\n",
       "      <td>0.232873</td>\n",
       "      <td>0.314295</td>\n",
       "      <td>0.304620</td>\n",
       "      <td>0.329713</td>\n",
       "      <td>0.442343</td>\n",
       "      <td>0.605128</td>\n",
       "      <td>0.484881</td>\n",
       "      <td>0.512083</td>\n",
       "      <td>0.312250</td>\n",
       "      <td>0.267750</td>\n",
       "    </tr>\n",
       "    <tr>\n",
       "      <th>min</th>\n",
       "      <td>-0.936967</td>\n",
       "      <td>-1.000000</td>\n",
       "      <td>-1.000000</td>\n",
       "      <td>-1.000000</td>\n",
       "      <td>-1.000000</td>\n",
       "      <td>-1.000000</td>\n",
       "      <td>-0.999895</td>\n",
       "      <td>-1.000000</td>\n",
       "      <td>-1.000000</td>\n",
       "      <td>-1.000000</td>\n",
       "      <td>...</td>\n",
       "      <td>-1.000000</td>\n",
       "      <td>-0.966187</td>\n",
       "      <td>-0.995967</td>\n",
       "      <td>-1.000000</td>\n",
       "      <td>-1.000000</td>\n",
       "      <td>-0.999790</td>\n",
       "      <td>-1.000000</td>\n",
       "      <td>-0.999381</td>\n",
       "      <td>-1.000000</td>\n",
       "      <td>-1.000000</td>\n",
       "    </tr>\n",
       "    <tr>\n",
       "      <th>25%</th>\n",
       "      <td>0.031892</td>\n",
       "      <td>-0.011130</td>\n",
       "      <td>-0.028456</td>\n",
       "      <td>-0.991607</td>\n",
       "      <td>-0.982807</td>\n",
       "      <td>-0.983834</td>\n",
       "      <td>-0.992464</td>\n",
       "      <td>-0.983626</td>\n",
       "      <td>-0.985990</td>\n",
       "      <td>-0.795255</td>\n",
       "      <td>...</td>\n",
       "      <td>0.023089</td>\n",
       "      <td>-0.545471</td>\n",
       "      <td>-0.841413</td>\n",
       "      <td>-0.109127</td>\n",
       "      <td>-0.263267</td>\n",
       "      <td>-0.458804</td>\n",
       "      <td>-0.402212</td>\n",
       "      <td>-0.817376</td>\n",
       "      <td>-0.036701</td>\n",
       "      <td>-0.130306</td>\n",
       "    </tr>\n",
       "    <tr>\n",
       "      <th>50%</th>\n",
       "      <td>0.038896</td>\n",
       "      <td>-0.002837</td>\n",
       "      <td>-0.019596</td>\n",
       "      <td>-0.904155</td>\n",
       "      <td>-0.799821</td>\n",
       "      <td>-0.818131</td>\n",
       "      <td>-0.920756</td>\n",
       "      <td>-0.827448</td>\n",
       "      <td>-0.847948</td>\n",
       "      <td>-0.713473</td>\n",
       "      <td>...</td>\n",
       "      <td>0.169018</td>\n",
       "      <td>-0.344783</td>\n",
       "      <td>-0.702373</td>\n",
       "      <td>0.015606</td>\n",
       "      <td>0.023090</td>\n",
       "      <td>0.025240</td>\n",
       "      <td>-0.018398</td>\n",
       "      <td>-0.710261</td>\n",
       "      <td>0.175725</td>\n",
       "      <td>0.001115</td>\n",
       "    </tr>\n",
       "    <tr>\n",
       "      <th>75%</th>\n",
       "      <td>0.043908</td>\n",
       "      <td>0.004439</td>\n",
       "      <td>-0.011540</td>\n",
       "      <td>-0.259769</td>\n",
       "      <td>-0.326465</td>\n",
       "      <td>-0.463097</td>\n",
       "      <td>-0.308441</td>\n",
       "      <td>-0.375197</td>\n",
       "      <td>-0.555398</td>\n",
       "      <td>0.047850</td>\n",
       "      <td>...</td>\n",
       "      <td>0.314213</td>\n",
       "      <td>-0.124420</td>\n",
       "      <td>-0.487175</td>\n",
       "      <td>0.164437</td>\n",
       "      <td>0.309241</td>\n",
       "      <td>0.536184</td>\n",
       "      <td>0.350848</td>\n",
       "      <td>-0.493587</td>\n",
       "      <td>0.248712</td>\n",
       "      <td>0.104101</td>\n",
       "    </tr>\n",
       "    <tr>\n",
       "      <th>max</th>\n",
       "      <td>1.000000</td>\n",
       "      <td>1.000000</td>\n",
       "      <td>1.000000</td>\n",
       "      <td>1.000000</td>\n",
       "      <td>1.000000</td>\n",
       "      <td>0.821096</td>\n",
       "      <td>1.000000</td>\n",
       "      <td>1.000000</td>\n",
       "      <td>0.722859</td>\n",
       "      <td>1.000000</td>\n",
       "      <td>...</td>\n",
       "      <td>1.000000</td>\n",
       "      <td>0.909870</td>\n",
       "      <td>0.897665</td>\n",
       "      <td>0.980889</td>\n",
       "      <td>0.998425</td>\n",
       "      <td>1.000000</td>\n",
       "      <td>1.000000</td>\n",
       "      <td>0.973651</td>\n",
       "      <td>0.999927</td>\n",
       "      <td>0.998384</td>\n",
       "    </tr>\n",
       "  </tbody>\n",
       "</table>\n",
       "<p>8 rows × 561 columns</p>\n",
       "</div>"
      ]
     },
     "execution_count": 6,
     "metadata": {},
     "output_type": "execute_result"
    }
   ],
   "source": [
    "X_train.describe()"
   ]
  },
  {
   "cell_type": "code",
   "execution_count": 7,
   "metadata": {},
   "outputs": [
    {
     "data": {
      "text/html": [
       "<div>\n",
       "<style scoped>\n",
       "    .dataframe tbody tr th:only-of-type {\n",
       "        vertical-align: middle;\n",
       "    }\n",
       "\n",
       "    .dataframe tbody tr th {\n",
       "        vertical-align: top;\n",
       "    }\n",
       "\n",
       "    .dataframe thead th {\n",
       "        text-align: right;\n",
       "    }\n",
       "</style>\n",
       "<table border=\"1\" class=\"dataframe\">\n",
       "  <thead>\n",
       "    <tr style=\"text-align: right;\">\n",
       "      <th></th>\n",
       "      <th>0</th>\n",
       "      <th>1</th>\n",
       "      <th>2</th>\n",
       "      <th>3</th>\n",
       "      <th>4</th>\n",
       "      <th>5</th>\n",
       "      <th>6</th>\n",
       "      <th>7</th>\n",
       "      <th>8</th>\n",
       "      <th>9</th>\n",
       "      <th>...</th>\n",
       "      <th>551</th>\n",
       "      <th>552</th>\n",
       "      <th>553</th>\n",
       "      <th>554</th>\n",
       "      <th>555</th>\n",
       "      <th>556</th>\n",
       "      <th>557</th>\n",
       "      <th>558</th>\n",
       "      <th>559</th>\n",
       "      <th>560</th>\n",
       "    </tr>\n",
       "  </thead>\n",
       "  <tbody>\n",
       "    <tr>\n",
       "      <th>count</th>\n",
       "      <td>777.000000</td>\n",
       "      <td>777.000000</td>\n",
       "      <td>777.000000</td>\n",
       "      <td>777.000000</td>\n",
       "      <td>777.000000</td>\n",
       "      <td>777.000000</td>\n",
       "      <td>777.000000</td>\n",
       "      <td>777.000000</td>\n",
       "      <td>777.000000</td>\n",
       "      <td>777.000000</td>\n",
       "      <td>...</td>\n",
       "      <td>777.000000</td>\n",
       "      <td>777.000000</td>\n",
       "      <td>777.000000</td>\n",
       "      <td>777.000000</td>\n",
       "      <td>777.000000</td>\n",
       "      <td>777.000000</td>\n",
       "      <td>777.000000</td>\n",
       "      <td>777.000000</td>\n",
       "      <td>777.000000</td>\n",
       "      <td>777.000000</td>\n",
       "    </tr>\n",
       "    <tr>\n",
       "      <th>mean</th>\n",
       "      <td>0.040362</td>\n",
       "      <td>-0.000303</td>\n",
       "      <td>-0.021258</td>\n",
       "      <td>-0.615508</td>\n",
       "      <td>-0.655797</td>\n",
       "      <td>-0.715718</td>\n",
       "      <td>-0.641161</td>\n",
       "      <td>-0.677823</td>\n",
       "      <td>-0.760778</td>\n",
       "      <td>-0.377704</td>\n",
       "      <td>...</td>\n",
       "      <td>0.159225</td>\n",
       "      <td>-0.308470</td>\n",
       "      <td>-0.621693</td>\n",
       "      <td>0.026223</td>\n",
       "      <td>0.020879</td>\n",
       "      <td>-0.021826</td>\n",
       "      <td>-0.008822</td>\n",
       "      <td>-0.497935</td>\n",
       "      <td>0.066768</td>\n",
       "      <td>-0.058893</td>\n",
       "    </tr>\n",
       "    <tr>\n",
       "      <th>std</th>\n",
       "      <td>0.095057</td>\n",
       "      <td>0.092222</td>\n",
       "      <td>0.081752</td>\n",
       "      <td>0.436983</td>\n",
       "      <td>0.356177</td>\n",
       "      <td>0.303298</td>\n",
       "      <td>0.411468</td>\n",
       "      <td>0.335822</td>\n",
       "      <td>0.257749</td>\n",
       "      <td>0.495320</td>\n",
       "      <td>...</td>\n",
       "      <td>0.239208</td>\n",
       "      <td>0.305471</td>\n",
       "      <td>0.294495</td>\n",
       "      <td>0.329672</td>\n",
       "      <td>0.437498</td>\n",
       "      <td>0.608690</td>\n",
       "      <td>0.475971</td>\n",
       "      <td>0.517810</td>\n",
       "      <td>0.298419</td>\n",
       "      <td>0.270685</td>\n",
       "    </tr>\n",
       "    <tr>\n",
       "      <th>min</th>\n",
       "      <td>-0.645123</td>\n",
       "      <td>-0.961665</td>\n",
       "      <td>-0.736913</td>\n",
       "      <td>-0.999349</td>\n",
       "      <td>-0.999611</td>\n",
       "      <td>-0.998360</td>\n",
       "      <td>-0.999349</td>\n",
       "      <td>-0.998815</td>\n",
       "      <td>-0.998326</td>\n",
       "      <td>-0.828772</td>\n",
       "      <td>...</td>\n",
       "      <td>-0.787256</td>\n",
       "      <td>-0.944793</td>\n",
       "      <td>-1.000000</td>\n",
       "      <td>-0.938509</td>\n",
       "      <td>-0.977240</td>\n",
       "      <td>-0.992987</td>\n",
       "      <td>-0.994877</td>\n",
       "      <td>-0.997299</td>\n",
       "      <td>-0.995887</td>\n",
       "      <td>-0.964115</td>\n",
       "    </tr>\n",
       "    <tr>\n",
       "      <th>25%</th>\n",
       "      <td>0.032253</td>\n",
       "      <td>-0.011211</td>\n",
       "      <td>-0.029769</td>\n",
       "      <td>-0.992196</td>\n",
       "      <td>-0.982818</td>\n",
       "      <td>-0.984531</td>\n",
       "      <td>-0.992728</td>\n",
       "      <td>-0.983524</td>\n",
       "      <td>-0.986174</td>\n",
       "      <td>-0.795330</td>\n",
       "      <td>...</td>\n",
       "      <td>0.022974</td>\n",
       "      <td>-0.519679</td>\n",
       "      <td>-0.825884</td>\n",
       "      <td>-0.098721</td>\n",
       "      <td>-0.253816</td>\n",
       "      <td>-0.513688</td>\n",
       "      <td>-0.372572</td>\n",
       "      <td>-0.824377</td>\n",
       "      <td>0.004302</td>\n",
       "      <td>-0.126612</td>\n",
       "    </tr>\n",
       "    <tr>\n",
       "      <th>50%</th>\n",
       "      <td>0.038890</td>\n",
       "      <td>-0.002759</td>\n",
       "      <td>-0.019776</td>\n",
       "      <td>-0.929444</td>\n",
       "      <td>-0.879896</td>\n",
       "      <td>-0.898302</td>\n",
       "      <td>-0.938691</td>\n",
       "      <td>-0.893012</td>\n",
       "      <td>-0.911902</td>\n",
       "      <td>-0.735539</td>\n",
       "      <td>...</td>\n",
       "      <td>0.187132</td>\n",
       "      <td>-0.334477</td>\n",
       "      <td>-0.698397</td>\n",
       "      <td>0.024153</td>\n",
       "      <td>0.029610</td>\n",
       "      <td>-0.050145</td>\n",
       "      <td>-0.018666</td>\n",
       "      <td>-0.721793</td>\n",
       "      <td>0.177334</td>\n",
       "      <td>-0.006961</td>\n",
       "    </tr>\n",
       "    <tr>\n",
       "      <th>75%</th>\n",
       "      <td>0.042764</td>\n",
       "      <td>0.004433</td>\n",
       "      <td>-0.012427</td>\n",
       "      <td>-0.263291</td>\n",
       "      <td>-0.337813</td>\n",
       "      <td>-0.479073</td>\n",
       "      <td>-0.307719</td>\n",
       "      <td>-0.385889</td>\n",
       "      <td>-0.570158</td>\n",
       "      <td>0.044503</td>\n",
       "      <td>...</td>\n",
       "      <td>0.309940</td>\n",
       "      <td>-0.139028</td>\n",
       "      <td>-0.504894</td>\n",
       "      <td>0.165890</td>\n",
       "      <td>0.312883</td>\n",
       "      <td>0.475900</td>\n",
       "      <td>0.362330</td>\n",
       "      <td>-0.519349</td>\n",
       "      <td>0.253269</td>\n",
       "      <td>0.091924</td>\n",
       "    </tr>\n",
       "    <tr>\n",
       "      <th>max</th>\n",
       "      <td>0.976950</td>\n",
       "      <td>0.653537</td>\n",
       "      <td>0.700629</td>\n",
       "      <td>0.660357</td>\n",
       "      <td>0.475475</td>\n",
       "      <td>0.848957</td>\n",
       "      <td>0.664774</td>\n",
       "      <td>0.515488</td>\n",
       "      <td>0.689027</td>\n",
       "      <td>0.762355</td>\n",
       "      <td>...</td>\n",
       "      <td>0.829862</td>\n",
       "      <td>0.938491</td>\n",
       "      <td>0.911653</td>\n",
       "      <td>0.998898</td>\n",
       "      <td>0.979759</td>\n",
       "      <td>0.999456</td>\n",
       "      <td>0.976169</td>\n",
       "      <td>0.906426</td>\n",
       "      <td>1.000000</td>\n",
       "      <td>1.000000</td>\n",
       "    </tr>\n",
       "  </tbody>\n",
       "</table>\n",
       "<p>8 rows × 561 columns</p>\n",
       "</div>"
      ],
      "text/plain": [
       "<div>\n",
       "<style scoped>\n",
       "    .dataframe tbody tr th:only-of-type {\n",
       "        vertical-align: middle;\n",
       "    }\n",
       "\n",
       "    .dataframe tbody tr th {\n",
       "        vertical-align: top;\n",
       "    }\n",
       "\n",
       "    .dataframe thead th {\n",
       "        text-align: right;\n",
       "    }\n",
       "</style>\n",
       "<table border=\"1\" class=\"dataframe\">\n",
       "  <thead>\n",
       "    <tr style=\"text-align: right;\">\n",
       "      <th></th>\n",
       "      <th>0</th>\n",
       "      <th>1</th>\n",
       "      <th>2</th>\n",
       "      <th>3</th>\n",
       "      <th>4</th>\n",
       "      <th>5</th>\n",
       "      <th>6</th>\n",
       "      <th>7</th>\n",
       "      <th>8</th>\n",
       "      <th>9</th>\n",
       "      <th>...</th>\n",
       "      <th>551</th>\n",
       "      <th>552</th>\n",
       "      <th>553</th>\n",
       "      <th>554</th>\n",
       "      <th>555</th>\n",
       "      <th>556</th>\n",
       "      <th>557</th>\n",
       "      <th>558</th>\n",
       "      <th>559</th>\n",
       "      <th>560</th>\n",
       "    </tr>\n",
       "  </thead>\n",
       "  <tbody>\n",
       "    <tr>\n",
       "      <th>count</th>\n",
       "      <td>777.000000</td>\n",
       "      <td>777.000000</td>\n",
       "      <td>777.000000</td>\n",
       "      <td>777.000000</td>\n",
       "      <td>777.000000</td>\n",
       "      <td>777.000000</td>\n",
       "      <td>777.000000</td>\n",
       "      <td>777.000000</td>\n",
       "      <td>777.000000</td>\n",
       "      <td>777.000000</td>\n",
       "      <td>...</td>\n",
       "      <td>777.000000</td>\n",
       "      <td>777.000000</td>\n",
       "      <td>777.000000</td>\n",
       "      <td>777.000000</td>\n",
       "      <td>777.000000</td>\n",
       "      <td>777.000000</td>\n",
       "      <td>777.000000</td>\n",
       "      <td>777.000000</td>\n",
       "      <td>777.000000</td>\n",
       "      <td>777.000000</td>\n",
       "    </tr>\n",
       "    <tr>\n",
       "      <th>mean</th>\n",
       "      <td>0.040362</td>\n",
       "      <td>-0.000303</td>\n",
       "      <td>-0.021258</td>\n",
       "      <td>-0.615508</td>\n",
       "      <td>-0.655797</td>\n",
       "      <td>-0.715718</td>\n",
       "      <td>-0.641161</td>\n",
       "      <td>-0.677823</td>\n",
       "      <td>-0.760778</td>\n",
       "      <td>-0.377704</td>\n",
       "      <td>...</td>\n",
       "      <td>0.159225</td>\n",
       "      <td>-0.308470</td>\n",
       "      <td>-0.621693</td>\n",
       "      <td>0.026223</td>\n",
       "      <td>0.020879</td>\n",
       "      <td>-0.021826</td>\n",
       "      <td>-0.008822</td>\n",
       "      <td>-0.497935</td>\n",
       "      <td>0.066768</td>\n",
       "      <td>-0.058893</td>\n",
       "    </tr>\n",
       "    <tr>\n",
       "      <th>std</th>\n",
       "      <td>0.095057</td>\n",
       "      <td>0.092222</td>\n",
       "      <td>0.081752</td>\n",
       "      <td>0.436983</td>\n",
       "      <td>0.356177</td>\n",
       "      <td>0.303298</td>\n",
       "      <td>0.411468</td>\n",
       "      <td>0.335822</td>\n",
       "      <td>0.257749</td>\n",
       "      <td>0.495320</td>\n",
       "      <td>...</td>\n",
       "      <td>0.239208</td>\n",
       "      <td>0.305471</td>\n",
       "      <td>0.294495</td>\n",
       "      <td>0.329672</td>\n",
       "      <td>0.437498</td>\n",
       "      <td>0.608690</td>\n",
       "      <td>0.475971</td>\n",
       "      <td>0.517810</td>\n",
       "      <td>0.298419</td>\n",
       "      <td>0.270685</td>\n",
       "    </tr>\n",
       "    <tr>\n",
       "      <th>min</th>\n",
       "      <td>-0.645123</td>\n",
       "      <td>-0.961665</td>\n",
       "      <td>-0.736913</td>\n",
       "      <td>-0.999349</td>\n",
       "      <td>-0.999611</td>\n",
       "      <td>-0.998360</td>\n",
       "      <td>-0.999349</td>\n",
       "      <td>-0.998815</td>\n",
       "      <td>-0.998326</td>\n",
       "      <td>-0.828772</td>\n",
       "      <td>...</td>\n",
       "      <td>-0.787256</td>\n",
       "      <td>-0.944793</td>\n",
       "      <td>-1.000000</td>\n",
       "      <td>-0.938509</td>\n",
       "      <td>-0.977240</td>\n",
       "      <td>-0.992987</td>\n",
       "      <td>-0.994877</td>\n",
       "      <td>-0.997299</td>\n",
       "      <td>-0.995887</td>\n",
       "      <td>-0.964115</td>\n",
       "    </tr>\n",
       "    <tr>\n",
       "      <th>25%</th>\n",
       "      <td>0.032253</td>\n",
       "      <td>-0.011211</td>\n",
       "      <td>-0.029769</td>\n",
       "      <td>-0.992196</td>\n",
       "      <td>-0.982818</td>\n",
       "      <td>-0.984531</td>\n",
       "      <td>-0.992728</td>\n",
       "      <td>-0.983524</td>\n",
       "      <td>-0.986174</td>\n",
       "      <td>-0.795330</td>\n",
       "      <td>...</td>\n",
       "      <td>0.022974</td>\n",
       "      <td>-0.519679</td>\n",
       "      <td>-0.825884</td>\n",
       "      <td>-0.098721</td>\n",
       "      <td>-0.253816</td>\n",
       "      <td>-0.513688</td>\n",
       "      <td>-0.372572</td>\n",
       "      <td>-0.824377</td>\n",
       "      <td>0.004302</td>\n",
       "      <td>-0.126612</td>\n",
       "    </tr>\n",
       "    <tr>\n",
       "      <th>50%</th>\n",
       "      <td>0.038890</td>\n",
       "      <td>-0.002759</td>\n",
       "      <td>-0.019776</td>\n",
       "      <td>-0.929444</td>\n",
       "      <td>-0.879896</td>\n",
       "      <td>-0.898302</td>\n",
       "      <td>-0.938691</td>\n",
       "      <td>-0.893012</td>\n",
       "      <td>-0.911902</td>\n",
       "      <td>-0.735539</td>\n",
       "      <td>...</td>\n",
       "      <td>0.187132</td>\n",
       "      <td>-0.334477</td>\n",
       "      <td>-0.698397</td>\n",
       "      <td>0.024153</td>\n",
       "      <td>0.029610</td>\n",
       "      <td>-0.050145</td>\n",
       "      <td>-0.018666</td>\n",
       "      <td>-0.721793</td>\n",
       "      <td>0.177334</td>\n",
       "      <td>-0.006961</td>\n",
       "    </tr>\n",
       "    <tr>\n",
       "      <th>75%</th>\n",
       "      <td>0.042764</td>\n",
       "      <td>0.004433</td>\n",
       "      <td>-0.012427</td>\n",
       "      <td>-0.263291</td>\n",
       "      <td>-0.337813</td>\n",
       "      <td>-0.479073</td>\n",
       "      <td>-0.307719</td>\n",
       "      <td>-0.385889</td>\n",
       "      <td>-0.570158</td>\n",
       "      <td>0.044503</td>\n",
       "      <td>...</td>\n",
       "      <td>0.309940</td>\n",
       "      <td>-0.139028</td>\n",
       "      <td>-0.504894</td>\n",
       "      <td>0.165890</td>\n",
       "      <td>0.312883</td>\n",
       "      <td>0.475900</td>\n",
       "      <td>0.362330</td>\n",
       "      <td>-0.519349</td>\n",
       "      <td>0.253269</td>\n",
       "      <td>0.091924</td>\n",
       "    </tr>\n",
       "    <tr>\n",
       "      <th>max</th>\n",
       "      <td>0.976950</td>\n",
       "      <td>0.653537</td>\n",
       "      <td>0.700629</td>\n",
       "      <td>0.660357</td>\n",
       "      <td>0.475475</td>\n",
       "      <td>0.848957</td>\n",
       "      <td>0.664774</td>\n",
       "      <td>0.515488</td>\n",
       "      <td>0.689027</td>\n",
       "      <td>0.762355</td>\n",
       "      <td>...</td>\n",
       "      <td>0.829862</td>\n",
       "      <td>0.938491</td>\n",
       "      <td>0.911653</td>\n",
       "      <td>0.998898</td>\n",
       "      <td>0.979759</td>\n",
       "      <td>0.999456</td>\n",
       "      <td>0.976169</td>\n",
       "      <td>0.906426</td>\n",
       "      <td>1.000000</td>\n",
       "      <td>1.000000</td>\n",
       "    </tr>\n",
       "  </tbody>\n",
       "</table>\n",
       "<p>8 rows × 561 columns</p>\n",
       "</div>"
      ]
     },
     "execution_count": 7,
     "metadata": {},
     "output_type": "execute_result"
    }
   ],
   "source": [
    "X_test.describe()"
   ]
  },
  {
   "cell_type": "markdown",
   "metadata": {},
   "source": [
    "### Classification"
   ]
  },
  {
   "cell_type": "markdown",
   "metadata": {},
   "source": [
    "#### Logistic Regression\n",
    "We set C parameter to infinite to drop role of regularizer and set dual to False because the number of samples is greater than features. Solver for optimization problem is set to Stochastic Average Gradient Descent with random state 20 to seed every iteration in optimization phase."
   ]
  },
  {
   "cell_type": "code",
   "execution_count": 8,
   "metadata": {},
   "outputs": [
    {
     "name": "stderr",
     "output_type": "stream",
     "text": [
      "/home/mma/University/master_degree/Machine_Learning/project/final/venv/lib/python3.5/site-packages/sklearn/utils/validation.py:761: DataConversionWarning: A column-vector y was passed when a 1d array was expected. Please change the shape of y to (n_samples, ), for example using ravel().\n  y = column_or_1d(y, warn=True)\n"
     ]
    },
    {
     "name": "stderr",
     "output_type": "stream",
     "text": [
      "/home/mma/University/master_degree/Machine_Learning/project/final/venv/lib/python3.5/site-packages/sklearn/linear_model/sag.py:334: ConvergenceWarning: The max_iter was reached which means the coef_ did not converge\n  \"the coef_ did not converge\", ConvergenceWarning)\n/home/mma/University/master_degree/Machine_Learning/project/final/venv/lib/python3.5/site-packages/sklearn/utils/validation.py:761: DataConversionWarning: A column-vector y was passed when a 1d array was expected. Please change the shape of y to (n_samples, ), for example using ravel().\n  y = column_or_1d(y, warn=True)\n"
     ]
    },
    {
     "name": "stderr",
     "output_type": "stream",
     "text": [
      "/home/mma/University/master_degree/Machine_Learning/project/final/venv/lib/python3.5/site-packages/sklearn/linear_model/sag.py:334: ConvergenceWarning: The max_iter was reached which means the coef_ did not converge\n  \"the coef_ did not converge\", ConvergenceWarning)\n/home/mma/University/master_degree/Machine_Learning/project/final/venv/lib/python3.5/site-packages/sklearn/utils/validation.py:761: DataConversionWarning: A column-vector y was passed when a 1d array was expected. Please change the shape of y to (n_samples, ), for example using ravel().\n  y = column_or_1d(y, warn=True)\n"
     ]
    },
    {
     "name": "stderr",
     "output_type": "stream",
     "text": [
      "/home/mma/University/master_degree/Machine_Learning/project/final/venv/lib/python3.5/site-packages/sklearn/linear_model/sag.py:334: ConvergenceWarning: The max_iter was reached which means the coef_ did not converge\n  \"the coef_ did not converge\", ConvergenceWarning)\n/home/mma/University/master_degree/Machine_Learning/project/final/venv/lib/python3.5/site-packages/sklearn/utils/validation.py:761: DataConversionWarning: A column-vector y was passed when a 1d array was expected. Please change the shape of y to (n_samples, ), for example using ravel().\n  y = column_or_1d(y, warn=True)\n"
     ]
    },
    {
     "name": "stderr",
     "output_type": "stream",
     "text": [
      "/home/mma/University/master_degree/Machine_Learning/project/final/venv/lib/python3.5/site-packages/sklearn/linear_model/sag.py:334: ConvergenceWarning: The max_iter was reached which means the coef_ did not converge\n  \"the coef_ did not converge\", ConvergenceWarning)\n/home/mma/University/master_degree/Machine_Learning/project/final/venv/lib/python3.5/site-packages/sklearn/utils/validation.py:761: DataConversionWarning: A column-vector y was passed when a 1d array was expected. Please change the shape of y to (n_samples, ), for example using ravel().\n  y = column_or_1d(y, warn=True)\n"
     ]
    },
    {
     "name": "stderr",
     "output_type": "stream",
     "text": [
      "/home/mma/University/master_degree/Machine_Learning/project/final/venv/lib/python3.5/site-packages/sklearn/linear_model/sag.py:334: ConvergenceWarning: The max_iter was reached which means the coef_ did not converge\n  \"the coef_ did not converge\", ConvergenceWarning)\n"
     ]
    }
   ],
   "source": [
    "from sklearn.linear_model import LogisticRegression\n",
    "from sklearn.model_selection import cross_val_score\n",
    "import math\n",
    "log_reg_clf = LogisticRegression(C=math.inf, dual=False, solver='sag', multi_class='multinomial', random_state=20)\n",
    "scores = cross_val_score(log_reg_clf, X=X_train, y=Y_train, cv=5, scoring='f1_macro')"
   ]
  },
  {
   "cell_type": "code",
   "execution_count": 9,
   "metadata": {},
   "outputs": [
    {
     "name": "stdout",
     "output_type": "stream",
     "text": [
      "F1-Score: 0.87 (+/- 0.05)\n"
     ]
    }
   ],
   "source": [
    "print(\"F1-Score: %0.2f (+/- %0.2f)\" % (scores.mean(), scores.std() * 2))"
   ]
  },
  {
   "cell_type": "code",
   "execution_count": 10,
   "metadata": {},
   "outputs": [
    {
     "name": "stdout",
     "output_type": "stream",
     "text": [
      "13 7\n"
     ]
    },
    {
     "name": "stderr",
     "output_type": "stream",
     "text": [
      "/home/mma/University/master_degree/Machine_Learning/project/final/venv/lib/python3.5/site-packages/sklearn/model_selection/_validation.py:528: DataConversionWarning: A column-vector y was passed when a 1d array was expected. Please change the shape of y to (n_samples,), for example using ravel().\n  estimator.fit(X_train, y_train, **fit_params)\n"
     ]
    },
    {
     "name": "stderr",
     "output_type": "stream",
     "text": [
      "/home/mma/University/master_degree/Machine_Learning/project/final/venv/lib/python3.5/site-packages/sklearn/model_selection/_validation.py:528: DataConversionWarning: A column-vector y was passed when a 1d array was expected. Please change the shape of y to (n_samples,), for example using ravel().\n  estimator.fit(X_train, y_train, **fit_params)\n"
     ]
    },
    {
     "name": "stderr",
     "output_type": "stream",
     "text": [
      "/home/mma/University/master_degree/Machine_Learning/project/final/venv/lib/python3.5/site-packages/sklearn/model_selection/_validation.py:528: DataConversionWarning: A column-vector y was passed when a 1d array was expected. Please change the shape of y to (n_samples,), for example using ravel().\n  estimator.fit(X_train, y_train, **fit_params)\n"
     ]
    },
    {
     "name": "stderr",
     "output_type": "stream",
     "text": [
      "/home/mma/University/master_degree/Machine_Learning/project/final/venv/lib/python3.5/site-packages/sklearn/metrics/classification.py:1143: UndefinedMetricWarning: F-score is ill-defined and being set to 0.0 in labels with no predicted samples.\n  'precision', 'predicted', average, warn_for)\n/home/mma/University/master_degree/Machine_Learning/project/final/venv/lib/python3.5/site-packages/sklearn/model_selection/_validation.py:528: DataConversionWarning: A column-vector y was passed when a 1d array was expected. Please change the shape of y to (n_samples,), for example using ravel().\n  estimator.fit(X_train, y_train, **fit_params)\n"
     ]
    },
    {
     "name": "stderr",
     "output_type": "stream",
     "text": [
      "/home/mma/University/master_degree/Machine_Learning/project/final/venv/lib/python3.5/site-packages/sklearn/model_selection/_validation.py:528: DataConversionWarning: A column-vector y was passed when a 1d array was expected. Please change the shape of y to (n_samples,), for example using ravel().\n  estimator.fit(X_train, y_train, **fit_params)\n"
     ]
    },
    {
     "name": "stdout",
     "output_type": "stream",
     "text": [
      "13 8\n"
     ]
    },
    {
     "name": "stderr",
     "output_type": "stream",
     "text": [
      "/home/mma/University/master_degree/Machine_Learning/project/final/venv/lib/python3.5/site-packages/sklearn/model_selection/_validation.py:528: DataConversionWarning: A column-vector y was passed when a 1d array was expected. Please change the shape of y to (n_samples,), for example using ravel().\n  estimator.fit(X_train, y_train, **fit_params)\n"
     ]
    },
    {
     "name": "stderr",
     "output_type": "stream",
     "text": [
      "/home/mma/University/master_degree/Machine_Learning/project/final/venv/lib/python3.5/site-packages/sklearn/model_selection/_validation.py:528: DataConversionWarning: A column-vector y was passed when a 1d array was expected. Please change the shape of y to (n_samples,), for example using ravel().\n  estimator.fit(X_train, y_train, **fit_params)\n"
     ]
    },
    {
     "name": "stderr",
     "output_type": "stream",
     "text": [
      "/home/mma/University/master_degree/Machine_Learning/project/final/venv/lib/python3.5/site-packages/sklearn/model_selection/_validation.py:528: DataConversionWarning: A column-vector y was passed when a 1d array was expected. Please change the shape of y to (n_samples,), for example using ravel().\n  estimator.fit(X_train, y_train, **fit_params)\n"
     ]
    },
    {
     "name": "stderr",
     "output_type": "stream",
     "text": [
      "/home/mma/University/master_degree/Machine_Learning/project/final/venv/lib/python3.5/site-packages/sklearn/model_selection/_validation.py:528: DataConversionWarning: A column-vector y was passed when a 1d array was expected. Please change the shape of y to (n_samples,), for example using ravel().\n  estimator.fit(X_train, y_train, **fit_params)\n"
     ]
    },
    {
     "name": "stderr",
     "output_type": "stream",
     "text": [
      "/home/mma/University/master_degree/Machine_Learning/project/final/venv/lib/python3.5/site-packages/sklearn/model_selection/_validation.py:528: DataConversionWarning: A column-vector y was passed when a 1d array was expected. Please change the shape of y to (n_samples,), for example using ravel().\n  estimator.fit(X_train, y_train, **fit_params)\n"
     ]
    },
    {
     "name": "stdout",
     "output_type": "stream",
     "text": [
      "13 9\n"
     ]
    },
    {
     "name": "stderr",
     "output_type": "stream",
     "text": [
      "/home/mma/University/master_degree/Machine_Learning/project/final/venv/lib/python3.5/site-packages/sklearn/model_selection/_validation.py:528: DataConversionWarning: A column-vector y was passed when a 1d array was expected. Please change the shape of y to (n_samples,), for example using ravel().\n  estimator.fit(X_train, y_train, **fit_params)\n"
     ]
    },
    {
     "name": "stderr",
     "output_type": "stream",
     "text": [
      "/home/mma/University/master_degree/Machine_Learning/project/final/venv/lib/python3.5/site-packages/sklearn/model_selection/_validation.py:528: DataConversionWarning: A column-vector y was passed when a 1d array was expected. Please change the shape of y to (n_samples,), for example using ravel().\n  estimator.fit(X_train, y_train, **fit_params)\n"
     ]
    },
    {
     "name": "stderr",
     "output_type": "stream",
     "text": [
      "/home/mma/University/master_degree/Machine_Learning/project/final/venv/lib/python3.5/site-packages/sklearn/model_selection/_validation.py:528: DataConversionWarning: A column-vector y was passed when a 1d array was expected. Please change the shape of y to (n_samples,), for example using ravel().\n  estimator.fit(X_train, y_train, **fit_params)\n"
     ]
    },
    {
     "name": "stderr",
     "output_type": "stream",
     "text": [
      "/home/mma/University/master_degree/Machine_Learning/project/final/venv/lib/python3.5/site-packages/sklearn/model_selection/_validation.py:528: DataConversionWarning: A column-vector y was passed when a 1d array was expected. Please change the shape of y to (n_samples,), for example using ravel().\n  estimator.fit(X_train, y_train, **fit_params)\n"
     ]
    },
    {
     "name": "stderr",
     "output_type": "stream",
     "text": [
      "/home/mma/University/master_degree/Machine_Learning/project/final/venv/lib/python3.5/site-packages/sklearn/model_selection/_validation.py:528: DataConversionWarning: A column-vector y was passed when a 1d array was expected. Please change the shape of y to (n_samples,), for example using ravel().\n  estimator.fit(X_train, y_train, **fit_params)\n"
     ]
    },
    {
     "name": "stdout",
     "output_type": "stream",
     "text": [
      "14 7\n"
     ]
    },
    {
     "name": "stderr",
     "output_type": "stream",
     "text": [
      "/home/mma/University/master_degree/Machine_Learning/project/final/venv/lib/python3.5/site-packages/sklearn/model_selection/_validation.py:528: DataConversionWarning: A column-vector y was passed when a 1d array was expected. Please change the shape of y to (n_samples,), for example using ravel().\n  estimator.fit(X_train, y_train, **fit_params)\n"
     ]
    },
    {
     "name": "stderr",
     "output_type": "stream",
     "text": [
      "/home/mma/University/master_degree/Machine_Learning/project/final/venv/lib/python3.5/site-packages/sklearn/model_selection/_validation.py:528: DataConversionWarning: A column-vector y was passed when a 1d array was expected. Please change the shape of y to (n_samples,), for example using ravel().\n  estimator.fit(X_train, y_train, **fit_params)\n"
     ]
    },
    {
     "name": "stderr",
     "output_type": "stream",
     "text": [
      "/home/mma/University/master_degree/Machine_Learning/project/final/venv/lib/python3.5/site-packages/sklearn/model_selection/_validation.py:528: DataConversionWarning: A column-vector y was passed when a 1d array was expected. Please change the shape of y to (n_samples,), for example using ravel().\n  estimator.fit(X_train, y_train, **fit_params)\n"
     ]
    },
    {
     "name": "stderr",
     "output_type": "stream",
     "text": [
      "/home/mma/University/master_degree/Machine_Learning/project/final/venv/lib/python3.5/site-packages/sklearn/model_selection/_validation.py:528: DataConversionWarning: A column-vector y was passed when a 1d array was expected. Please change the shape of y to (n_samples,), for example using ravel().\n  estimator.fit(X_train, y_train, **fit_params)\n"
     ]
    },
    {
     "name": "stderr",
     "output_type": "stream",
     "text": [
      "/home/mma/University/master_degree/Machine_Learning/project/final/venv/lib/python3.5/site-packages/sklearn/model_selection/_validation.py:528: DataConversionWarning: A column-vector y was passed when a 1d array was expected. Please change the shape of y to (n_samples,), for example using ravel().\n  estimator.fit(X_train, y_train, **fit_params)\n"
     ]
    },
    {
     "name": "stdout",
     "output_type": "stream",
     "text": [
      "14 8\n"
     ]
    },
    {
     "name": "stderr",
     "output_type": "stream",
     "text": [
      "/home/mma/University/master_degree/Machine_Learning/project/final/venv/lib/python3.5/site-packages/sklearn/model_selection/_validation.py:528: DataConversionWarning: A column-vector y was passed when a 1d array was expected. Please change the shape of y to (n_samples,), for example using ravel().\n  estimator.fit(X_train, y_train, **fit_params)\n"
     ]
    },
    {
     "name": "stderr",
     "output_type": "stream",
     "text": [
      "/home/mma/University/master_degree/Machine_Learning/project/final/venv/lib/python3.5/site-packages/sklearn/model_selection/_validation.py:528: DataConversionWarning: A column-vector y was passed when a 1d array was expected. Please change the shape of y to (n_samples,), for example using ravel().\n  estimator.fit(X_train, y_train, **fit_params)\n"
     ]
    },
    {
     "name": "stderr",
     "output_type": "stream",
     "text": [
      "/home/mma/University/master_degree/Machine_Learning/project/final/venv/lib/python3.5/site-packages/sklearn/model_selection/_validation.py:528: DataConversionWarning: A column-vector y was passed when a 1d array was expected. Please change the shape of y to (n_samples,), for example using ravel().\n  estimator.fit(X_train, y_train, **fit_params)\n"
     ]
    },
    {
     "name": "stderr",
     "output_type": "stream",
     "text": [
      "/home/mma/University/master_degree/Machine_Learning/project/final/venv/lib/python3.5/site-packages/sklearn/model_selection/_validation.py:528: DataConversionWarning: A column-vector y was passed when a 1d array was expected. Please change the shape of y to (n_samples,), for example using ravel().\n  estimator.fit(X_train, y_train, **fit_params)\n"
     ]
    },
    {
     "name": "stderr",
     "output_type": "stream",
     "text": [
      "/home/mma/University/master_degree/Machine_Learning/project/final/venv/lib/python3.5/site-packages/sklearn/model_selection/_validation.py:528: DataConversionWarning: A column-vector y was passed when a 1d array was expected. Please change the shape of y to (n_samples,), for example using ravel().\n  estimator.fit(X_train, y_train, **fit_params)\n"
     ]
    },
    {
     "name": "stdout",
     "output_type": "stream",
     "text": [
      "14 9\n"
     ]
    },
    {
     "name": "stderr",
     "output_type": "stream",
     "text": [
      "/home/mma/University/master_degree/Machine_Learning/project/final/venv/lib/python3.5/site-packages/sklearn/model_selection/_validation.py:528: DataConversionWarning: A column-vector y was passed when a 1d array was expected. Please change the shape of y to (n_samples,), for example using ravel().\n  estimator.fit(X_train, y_train, **fit_params)\n"
     ]
    },
    {
     "name": "stderr",
     "output_type": "stream",
     "text": [
      "/home/mma/University/master_degree/Machine_Learning/project/final/venv/lib/python3.5/site-packages/sklearn/model_selection/_validation.py:528: DataConversionWarning: A column-vector y was passed when a 1d array was expected. Please change the shape of y to (n_samples,), for example using ravel().\n  estimator.fit(X_train, y_train, **fit_params)\n"
     ]
    },
    {
     "name": "stderr",
     "output_type": "stream",
     "text": [
      "/home/mma/University/master_degree/Machine_Learning/project/final/venv/lib/python3.5/site-packages/sklearn/model_selection/_validation.py:528: DataConversionWarning: A column-vector y was passed when a 1d array was expected. Please change the shape of y to (n_samples,), for example using ravel().\n  estimator.fit(X_train, y_train, **fit_params)\n"
     ]
    },
    {
     "name": "stderr",
     "output_type": "stream",
     "text": [
      "/home/mma/University/master_degree/Machine_Learning/project/final/venv/lib/python3.5/site-packages/sklearn/model_selection/_validation.py:528: DataConversionWarning: A column-vector y was passed when a 1d array was expected. Please change the shape of y to (n_samples,), for example using ravel().\n  estimator.fit(X_train, y_train, **fit_params)\n"
     ]
    },
    {
     "name": "stderr",
     "output_type": "stream",
     "text": [
      "/home/mma/University/master_degree/Machine_Learning/project/final/venv/lib/python3.5/site-packages/sklearn/model_selection/_validation.py:528: DataConversionWarning: A column-vector y was passed when a 1d array was expected. Please change the shape of y to (n_samples,), for example using ravel().\n  estimator.fit(X_train, y_train, **fit_params)\n"
     ]
    },
    {
     "name": "stdout",
     "output_type": "stream",
     "text": [
      "15 7\n"
     ]
    },
    {
     "name": "stderr",
     "output_type": "stream",
     "text": [
      "/home/mma/University/master_degree/Machine_Learning/project/final/venv/lib/python3.5/site-packages/sklearn/model_selection/_validation.py:528: DataConversionWarning: A column-vector y was passed when a 1d array was expected. Please change the shape of y to (n_samples,), for example using ravel().\n  estimator.fit(X_train, y_train, **fit_params)\n"
     ]
    },
    {
     "name": "stderr",
     "output_type": "stream",
     "text": [
      "/home/mma/University/master_degree/Machine_Learning/project/final/venv/lib/python3.5/site-packages/sklearn/model_selection/_validation.py:528: DataConversionWarning: A column-vector y was passed when a 1d array was expected. Please change the shape of y to (n_samples,), for example using ravel().\n  estimator.fit(X_train, y_train, **fit_params)\n"
     ]
    },
    {
     "name": "stderr",
     "output_type": "stream",
     "text": [
      "/home/mma/University/master_degree/Machine_Learning/project/final/venv/lib/python3.5/site-packages/sklearn/model_selection/_validation.py:528: DataConversionWarning: A column-vector y was passed when a 1d array was expected. Please change the shape of y to (n_samples,), for example using ravel().\n  estimator.fit(X_train, y_train, **fit_params)\n"
     ]
    },
    {
     "name": "stderr",
     "output_type": "stream",
     "text": [
      "/home/mma/University/master_degree/Machine_Learning/project/final/venv/lib/python3.5/site-packages/sklearn/model_selection/_validation.py:528: DataConversionWarning: A column-vector y was passed when a 1d array was expected. Please change the shape of y to (n_samples,), for example using ravel().\n  estimator.fit(X_train, y_train, **fit_params)\n"
     ]
    },
    {
     "name": "stderr",
     "output_type": "stream",
     "text": [
      "/home/mma/University/master_degree/Machine_Learning/project/final/venv/lib/python3.5/site-packages/sklearn/model_selection/_validation.py:528: DataConversionWarning: A column-vector y was passed when a 1d array was expected. Please change the shape of y to (n_samples,), for example using ravel().\n  estimator.fit(X_train, y_train, **fit_params)\n"
     ]
    },
    {
     "name": "stdout",
     "output_type": "stream",
     "text": [
      "15 8\n"
     ]
    },
    {
     "name": "stderr",
     "output_type": "stream",
     "text": [
      "/home/mma/University/master_degree/Machine_Learning/project/final/venv/lib/python3.5/site-packages/sklearn/model_selection/_validation.py:528: DataConversionWarning: A column-vector y was passed when a 1d array was expected. Please change the shape of y to (n_samples,), for example using ravel().\n  estimator.fit(X_train, y_train, **fit_params)\n"
     ]
    },
    {
     "name": "stderr",
     "output_type": "stream",
     "text": [
      "/home/mma/University/master_degree/Machine_Learning/project/final/venv/lib/python3.5/site-packages/sklearn/model_selection/_validation.py:528: DataConversionWarning: A column-vector y was passed when a 1d array was expected. Please change the shape of y to (n_samples,), for example using ravel().\n  estimator.fit(X_train, y_train, **fit_params)\n"
     ]
    },
    {
     "name": "stderr",
     "output_type": "stream",
     "text": [
      "/home/mma/University/master_degree/Machine_Learning/project/final/venv/lib/python3.5/site-packages/sklearn/model_selection/_validation.py:528: DataConversionWarning: A column-vector y was passed when a 1d array was expected. Please change the shape of y to (n_samples,), for example using ravel().\n  estimator.fit(X_train, y_train, **fit_params)\n"
     ]
    },
    {
     "name": "stderr",
     "output_type": "stream",
     "text": [
      "/home/mma/University/master_degree/Machine_Learning/project/final/venv/lib/python3.5/site-packages/sklearn/model_selection/_validation.py:528: DataConversionWarning: A column-vector y was passed when a 1d array was expected. Please change the shape of y to (n_samples,), for example using ravel().\n  estimator.fit(X_train, y_train, **fit_params)\n"
     ]
    },
    {
     "name": "stderr",
     "output_type": "stream",
     "text": [
      "/home/mma/University/master_degree/Machine_Learning/project/final/venv/lib/python3.5/site-packages/sklearn/model_selection/_validation.py:528: DataConversionWarning: A column-vector y was passed when a 1d array was expected. Please change the shape of y to (n_samples,), for example using ravel().\n  estimator.fit(X_train, y_train, **fit_params)\n"
     ]
    },
    {
     "name": "stdout",
     "output_type": "stream",
     "text": [
      "15 9\n"
     ]
    },
    {
     "name": "stderr",
     "output_type": "stream",
     "text": [
      "/home/mma/University/master_degree/Machine_Learning/project/final/venv/lib/python3.5/site-packages/sklearn/model_selection/_validation.py:528: DataConversionWarning: A column-vector y was passed when a 1d array was expected. Please change the shape of y to (n_samples,), for example using ravel().\n  estimator.fit(X_train, y_train, **fit_params)\n"
     ]
    },
    {
     "name": "stderr",
     "output_type": "stream",
     "text": [
      "/home/mma/University/master_degree/Machine_Learning/project/final/venv/lib/python3.5/site-packages/sklearn/model_selection/_validation.py:528: DataConversionWarning: A column-vector y was passed when a 1d array was expected. Please change the shape of y to (n_samples,), for example using ravel().\n  estimator.fit(X_train, y_train, **fit_params)\n"
     ]
    },
    {
     "name": "stderr",
     "output_type": "stream",
     "text": [
      "/home/mma/University/master_degree/Machine_Learning/project/final/venv/lib/python3.5/site-packages/sklearn/model_selection/_validation.py:528: DataConversionWarning: A column-vector y was passed when a 1d array was expected. Please change the shape of y to (n_samples,), for example using ravel().\n  estimator.fit(X_train, y_train, **fit_params)\n"
     ]
    },
    {
     "name": "stderr",
     "output_type": "stream",
     "text": [
      "/home/mma/University/master_degree/Machine_Learning/project/final/venv/lib/python3.5/site-packages/sklearn/model_selection/_validation.py:528: DataConversionWarning: A column-vector y was passed when a 1d array was expected. Please change the shape of y to (n_samples,), for example using ravel().\n  estimator.fit(X_train, y_train, **fit_params)\n"
     ]
    },
    {
     "name": "stderr",
     "output_type": "stream",
     "text": [
      "/home/mma/University/master_degree/Machine_Learning/project/final/venv/lib/python3.5/site-packages/sklearn/model_selection/_validation.py:528: DataConversionWarning: A column-vector y was passed when a 1d array was expected. Please change the shape of y to (n_samples,), for example using ravel().\n  estimator.fit(X_train, y_train, **fit_params)\n"
     ]
    },
    {
     "name": "stderr",
     "output_type": "stream",
     "text": [
      "/home/mma/University/master_degree/Machine_Learning/project/final/venv/lib/python3.5/site-packages/sklearn/model_selection/_validation.py:528: DataConversionWarning: A column-vector y was passed when a 1d array was expected. Please change the shape of y to (n_samples,), for example using ravel().\n  estimator.fit(X_train, y_train, **fit_params)\n"
     ]
    },
    {
     "name": "stderr",
     "output_type": "stream",
     "text": [
      "/home/mma/University/master_degree/Machine_Learning/project/final/venv/lib/python3.5/site-packages/sklearn/model_selection/_validation.py:528: DataConversionWarning: A column-vector y was passed when a 1d array was expected. Please change the shape of y to (n_samples,), for example using ravel().\n  estimator.fit(X_train, y_train, **fit_params)\n"
     ]
    },
    {
     "name": "stderr",
     "output_type": "stream",
     "text": [
      "/home/mma/University/master_degree/Machine_Learning/project/final/venv/lib/python3.5/site-packages/sklearn/model_selection/_validation.py:528: DataConversionWarning: A column-vector y was passed when a 1d array was expected. Please change the shape of y to (n_samples,), for example using ravel().\n  estimator.fit(X_train, y_train, **fit_params)\n"
     ]
    },
    {
     "name": "stderr",
     "output_type": "stream",
     "text": [
      "/home/mma/University/master_degree/Machine_Learning/project/final/venv/lib/python3.5/site-packages/sklearn/model_selection/_validation.py:528: DataConversionWarning: A column-vector y was passed when a 1d array was expected. Please change the shape of y to (n_samples,), for example using ravel().\n  estimator.fit(X_train, y_train, **fit_params)\n"
     ]
    },
    {
     "name": "stderr",
     "output_type": "stream",
     "text": [
      "/home/mma/University/master_degree/Machine_Learning/project/final/venv/lib/python3.5/site-packages/sklearn/model_selection/_validation.py:528: DataConversionWarning: A column-vector y was passed when a 1d array was expected. Please change the shape of y to (n_samples,), for example using ravel().\n  estimator.fit(X_train, y_train, **fit_params)\n"
     ]
    }
   ],
   "source": [
    "from sklearn.ensemble import RandomForestClassifier\n",
    "max_score = 0\n",
    "for num_estimator in range(13, 16):\n",
    "    for max_depth in range(7, 10):\n",
    "        print(num_estimator, max_depth)\n",
    "        clf = RandomForestClassifier(n_estimators=num_estimator, max_depth=max_depth, random_state=0)\n",
    "        scores = cross_val_score(clf, X=X_train, y=Y_train, cv=5, scoring='f1_macro')\n",
    "        if scores.mean() > max_score:\n",
    "            max_score = scores.mean()\n",
    "            best_n_estimator, best_max_depth = num_estimator, max_depth\n",
    "            \n",
    "rand_forest_clf = RandomForestClassifier(n_estimators=best_n_estimator, max_depth=best_max_depth, random_state=0)\n",
    "scores = cross_val_score(rand_forest_clf, X=X_train, y=Y_train, cv=5, scoring='f1_macro')"
   ]
  },
  {
   "cell_type": "code",
   "execution_count": 11,
   "metadata": {},
   "outputs": [
    {
     "name": "stdout",
     "output_type": "stream",
     "text": [
      "Best Number of Trees :  15 Best Max Depth :  9\nF1-Score: 0.82 (+/- 0.10)\n"
     ]
    }
   ],
   "source": [
    "print(\"Best Number of Trees : \", best_n_estimator, \"Best Max Depth : \", best_max_depth)\n",
    "print(\"F1-Score: %0.2f (+/- %0.2f)\" % (scores.mean(), scores.std() * 2))"
   ]
  },
  {
   "cell_type": "code",
   "execution_count": 12,
   "metadata": {},
   "outputs": [
    {
     "name": "stdout",
     "output_type": "stream",
     "text": [
      "1.1 0.01\n"
     ]
    },
    {
     "name": "stderr",
     "output_type": "stream",
     "text": [
      "/home/mma/University/master_degree/Machine_Learning/project/final/venv/lib/python3.5/site-packages/sklearn/utils/validation.py:761: DataConversionWarning: A column-vector y was passed when a 1d array was expected. Please change the shape of y to (n_samples, ), for example using ravel().\n  y = column_or_1d(y, warn=True)\n"
     ]
    },
    {
     "name": "stderr",
     "output_type": "stream",
     "text": [
      "/home/mma/University/master_degree/Machine_Learning/project/final/venv/lib/python3.5/site-packages/sklearn/utils/validation.py:761: DataConversionWarning: A column-vector y was passed when a 1d array was expected. Please change the shape of y to (n_samples, ), for example using ravel().\n  y = column_or_1d(y, warn=True)\n"
     ]
    },
    {
     "name": "stderr",
     "output_type": "stream",
     "text": [
      "/home/mma/University/master_degree/Machine_Learning/project/final/venv/lib/python3.5/site-packages/sklearn/utils/validation.py:761: DataConversionWarning: A column-vector y was passed when a 1d array was expected. Please change the shape of y to (n_samples, ), for example using ravel().\n  y = column_or_1d(y, warn=True)\n"
     ]
    },
    {
     "name": "stderr",
     "output_type": "stream",
     "text": [
      "/home/mma/University/master_degree/Machine_Learning/project/final/venv/lib/python3.5/site-packages/sklearn/utils/validation.py:761: DataConversionWarning: A column-vector y was passed when a 1d array was expected. Please change the shape of y to (n_samples, ), for example using ravel().\n  y = column_or_1d(y, warn=True)\n"
     ]
    },
    {
     "name": "stderr",
     "output_type": "stream",
     "text": [
      "/home/mma/University/master_degree/Machine_Learning/project/final/venv/lib/python3.5/site-packages/sklearn/utils/validation.py:761: DataConversionWarning: A column-vector y was passed when a 1d array was expected. Please change the shape of y to (n_samples, ), for example using ravel().\n  y = column_or_1d(y, warn=True)\n"
     ]
    },
    {
     "name": "stdout",
     "output_type": "stream",
     "text": [
      "1.1 0.11\n"
     ]
    },
    {
     "name": "stderr",
     "output_type": "stream",
     "text": [
      "/home/mma/University/master_degree/Machine_Learning/project/final/venv/lib/python3.5/site-packages/sklearn/utils/validation.py:761: DataConversionWarning: A column-vector y was passed when a 1d array was expected. Please change the shape of y to (n_samples, ), for example using ravel().\n  y = column_or_1d(y, warn=True)\n"
     ]
    },
    {
     "name": "stderr",
     "output_type": "stream",
     "text": [
      "/home/mma/University/master_degree/Machine_Learning/project/final/venv/lib/python3.5/site-packages/sklearn/metrics/classification.py:1143: UndefinedMetricWarning: F-score is ill-defined and being set to 0.0 in labels with no predicted samples.\n  'precision', 'predicted', average, warn_for)\n/home/mma/University/master_degree/Machine_Learning/project/final/venv/lib/python3.5/site-packages/sklearn/utils/validation.py:761: DataConversionWarning: A column-vector y was passed when a 1d array was expected. Please change the shape of y to (n_samples, ), for example using ravel().\n  y = column_or_1d(y, warn=True)\n"
     ]
    },
    {
     "name": "stderr",
     "output_type": "stream",
     "text": [
      "/home/mma/University/master_degree/Machine_Learning/project/final/venv/lib/python3.5/site-packages/sklearn/utils/validation.py:761: DataConversionWarning: A column-vector y was passed when a 1d array was expected. Please change the shape of y to (n_samples, ), for example using ravel().\n  y = column_or_1d(y, warn=True)\n"
     ]
    },
    {
     "name": "stderr",
     "output_type": "stream",
     "text": [
      "/home/mma/University/master_degree/Machine_Learning/project/final/venv/lib/python3.5/site-packages/sklearn/metrics/classification.py:1143: UndefinedMetricWarning: F-score is ill-defined and being set to 0.0 in labels with no predicted samples.\n  'precision', 'predicted', average, warn_for)\n/home/mma/University/master_degree/Machine_Learning/project/final/venv/lib/python3.5/site-packages/sklearn/utils/validation.py:761: DataConversionWarning: A column-vector y was passed when a 1d array was expected. Please change the shape of y to (n_samples, ), for example using ravel().\n  y = column_or_1d(y, warn=True)\n"
     ]
    },
    {
     "name": "stderr",
     "output_type": "stream",
     "text": [
      "/home/mma/University/master_degree/Machine_Learning/project/final/venv/lib/python3.5/site-packages/sklearn/utils/validation.py:761: DataConversionWarning: A column-vector y was passed when a 1d array was expected. Please change the shape of y to (n_samples, ), for example using ravel().\n  y = column_or_1d(y, warn=True)\n"
     ]
    },
    {
     "name": "stdout",
     "output_type": "stream",
     "text": [
      "1.1 0.21\n"
     ]
    },
    {
     "name": "stderr",
     "output_type": "stream",
     "text": [
      "/home/mma/University/master_degree/Machine_Learning/project/final/venv/lib/python3.5/site-packages/sklearn/utils/validation.py:761: DataConversionWarning: A column-vector y was passed when a 1d array was expected. Please change the shape of y to (n_samples, ), for example using ravel().\n  y = column_or_1d(y, warn=True)\n"
     ]
    },
    {
     "name": "stderr",
     "output_type": "stream",
     "text": [
      "/home/mma/University/master_degree/Machine_Learning/project/final/venv/lib/python3.5/site-packages/sklearn/metrics/classification.py:1143: UndefinedMetricWarning: F-score is ill-defined and being set to 0.0 in labels with no predicted samples.\n  'precision', 'predicted', average, warn_for)\n/home/mma/University/master_degree/Machine_Learning/project/final/venv/lib/python3.5/site-packages/sklearn/utils/validation.py:761: DataConversionWarning: A column-vector y was passed when a 1d array was expected. Please change the shape of y to (n_samples, ), for example using ravel().\n  y = column_or_1d(y, warn=True)\n"
     ]
    },
    {
     "name": "stderr",
     "output_type": "stream",
     "text": [
      "/home/mma/University/master_degree/Machine_Learning/project/final/venv/lib/python3.5/site-packages/sklearn/metrics/classification.py:1143: UndefinedMetricWarning: F-score is ill-defined and being set to 0.0 in labels with no predicted samples.\n  'precision', 'predicted', average, warn_for)\n/home/mma/University/master_degree/Machine_Learning/project/final/venv/lib/python3.5/site-packages/sklearn/utils/validation.py:761: DataConversionWarning: A column-vector y was passed when a 1d array was expected. Please change the shape of y to (n_samples, ), for example using ravel().\n  y = column_or_1d(y, warn=True)\n"
     ]
    },
    {
     "name": "stderr",
     "output_type": "stream",
     "text": [
      "/home/mma/University/master_degree/Machine_Learning/project/final/venv/lib/python3.5/site-packages/sklearn/metrics/classification.py:1143: UndefinedMetricWarning: F-score is ill-defined and being set to 0.0 in labels with no predicted samples.\n  'precision', 'predicted', average, warn_for)\n/home/mma/University/master_degree/Machine_Learning/project/final/venv/lib/python3.5/site-packages/sklearn/utils/validation.py:761: DataConversionWarning: A column-vector y was passed when a 1d array was expected. Please change the shape of y to (n_samples, ), for example using ravel().\n  y = column_or_1d(y, warn=True)\n"
     ]
    },
    {
     "name": "stderr",
     "output_type": "stream",
     "text": [
      "/home/mma/University/master_degree/Machine_Learning/project/final/venv/lib/python3.5/site-packages/sklearn/metrics/classification.py:1143: UndefinedMetricWarning: F-score is ill-defined and being set to 0.0 in labels with no predicted samples.\n  'precision', 'predicted', average, warn_for)\n/home/mma/University/master_degree/Machine_Learning/project/final/venv/lib/python3.5/site-packages/sklearn/utils/validation.py:761: DataConversionWarning: A column-vector y was passed when a 1d array was expected. Please change the shape of y to (n_samples, ), for example using ravel().\n  y = column_or_1d(y, warn=True)\n"
     ]
    },
    {
     "name": "stderr",
     "output_type": "stream",
     "text": [
      "/home/mma/University/master_degree/Machine_Learning/project/final/venv/lib/python3.5/site-packages/sklearn/metrics/classification.py:1143: UndefinedMetricWarning: F-score is ill-defined and being set to 0.0 in labels with no predicted samples.\n  'precision', 'predicted', average, warn_for)\n/home/mma/University/master_degree/Machine_Learning/project/final/venv/lib/python3.5/site-packages/sklearn/utils/validation.py:761: DataConversionWarning: A column-vector y was passed when a 1d array was expected. Please change the shape of y to (n_samples, ), for example using ravel().\n  y = column_or_1d(y, warn=True)\n"
     ]
    },
    {
     "name": "stdout",
     "output_type": "stream",
     "text": [
      "1.6 0.01\n"
     ]
    },
    {
     "name": "stderr",
     "output_type": "stream",
     "text": [
      "/home/mma/University/master_degree/Machine_Learning/project/final/venv/lib/python3.5/site-packages/sklearn/utils/validation.py:761: DataConversionWarning: A column-vector y was passed when a 1d array was expected. Please change the shape of y to (n_samples, ), for example using ravel().\n  y = column_or_1d(y, warn=True)\n"
     ]
    },
    {
     "name": "stderr",
     "output_type": "stream",
     "text": [
      "/home/mma/University/master_degree/Machine_Learning/project/final/venv/lib/python3.5/site-packages/sklearn/utils/validation.py:761: DataConversionWarning: A column-vector y was passed when a 1d array was expected. Please change the shape of y to (n_samples, ), for example using ravel().\n  y = column_or_1d(y, warn=True)\n"
     ]
    },
    {
     "name": "stderr",
     "output_type": "stream",
     "text": [
      "/home/mma/University/master_degree/Machine_Learning/project/final/venv/lib/python3.5/site-packages/sklearn/utils/validation.py:761: DataConversionWarning: A column-vector y was passed when a 1d array was expected. Please change the shape of y to (n_samples, ), for example using ravel().\n  y = column_or_1d(y, warn=True)\n"
     ]
    },
    {
     "name": "stderr",
     "output_type": "stream",
     "text": [
      "/home/mma/University/master_degree/Machine_Learning/project/final/venv/lib/python3.5/site-packages/sklearn/utils/validation.py:761: DataConversionWarning: A column-vector y was passed when a 1d array was expected. Please change the shape of y to (n_samples, ), for example using ravel().\n  y = column_or_1d(y, warn=True)\n"
     ]
    },
    {
     "name": "stdout",
     "output_type": "stream",
     "text": [
      "1.6 0.11\n"
     ]
    },
    {
     "name": "stderr",
     "output_type": "stream",
     "text": [
      "/home/mma/University/master_degree/Machine_Learning/project/final/venv/lib/python3.5/site-packages/sklearn/utils/validation.py:761: DataConversionWarning: A column-vector y was passed when a 1d array was expected. Please change the shape of y to (n_samples, ), for example using ravel().\n  y = column_or_1d(y, warn=True)\n"
     ]
    },
    {
     "name": "stderr",
     "output_type": "stream",
     "text": [
      "/home/mma/University/master_degree/Machine_Learning/project/final/venv/lib/python3.5/site-packages/sklearn/metrics/classification.py:1143: UndefinedMetricWarning: F-score is ill-defined and being set to 0.0 in labels with no predicted samples.\n  'precision', 'predicted', average, warn_for)\n/home/mma/University/master_degree/Machine_Learning/project/final/venv/lib/python3.5/site-packages/sklearn/utils/validation.py:761: DataConversionWarning: A column-vector y was passed when a 1d array was expected. Please change the shape of y to (n_samples, ), for example using ravel().\n  y = column_or_1d(y, warn=True)\n"
     ]
    },
    {
     "name": "stderr",
     "output_type": "stream",
     "text": [
      "/home/mma/University/master_degree/Machine_Learning/project/final/venv/lib/python3.5/site-packages/sklearn/utils/validation.py:761: DataConversionWarning: A column-vector y was passed when a 1d array was expected. Please change the shape of y to (n_samples, ), for example using ravel().\n  y = column_or_1d(y, warn=True)\n"
     ]
    },
    {
     "name": "stderr",
     "output_type": "stream",
     "text": [
      "/home/mma/University/master_degree/Machine_Learning/project/final/venv/lib/python3.5/site-packages/sklearn/utils/validation.py:761: DataConversionWarning: A column-vector y was passed when a 1d array was expected. Please change the shape of y to (n_samples, ), for example using ravel().\n  y = column_or_1d(y, warn=True)\n"
     ]
    },
    {
     "name": "stderr",
     "output_type": "stream",
     "text": [
      "/home/mma/University/master_degree/Machine_Learning/project/final/venv/lib/python3.5/site-packages/sklearn/utils/validation.py:761: DataConversionWarning: A column-vector y was passed when a 1d array was expected. Please change the shape of y to (n_samples, ), for example using ravel().\n  y = column_or_1d(y, warn=True)\n"
     ]
    },
    {
     "name": "stdout",
     "output_type": "stream",
     "text": [
      "1.6 0.21\n"
     ]
    },
    {
     "name": "stderr",
     "output_type": "stream",
     "text": [
      "/home/mma/University/master_degree/Machine_Learning/project/final/venv/lib/python3.5/site-packages/sklearn/utils/validation.py:761: DataConversionWarning: A column-vector y was passed when a 1d array was expected. Please change the shape of y to (n_samples, ), for example using ravel().\n  y = column_or_1d(y, warn=True)\n"
     ]
    },
    {
     "name": "stderr",
     "output_type": "stream",
     "text": [
      "/home/mma/University/master_degree/Machine_Learning/project/final/venv/lib/python3.5/site-packages/sklearn/metrics/classification.py:1143: UndefinedMetricWarning: F-score is ill-defined and being set to 0.0 in labels with no predicted samples.\n  'precision', 'predicted', average, warn_for)\n/home/mma/University/master_degree/Machine_Learning/project/final/venv/lib/python3.5/site-packages/sklearn/utils/validation.py:761: DataConversionWarning: A column-vector y was passed when a 1d array was expected. Please change the shape of y to (n_samples, ), for example using ravel().\n  y = column_or_1d(y, warn=True)\n"
     ]
    },
    {
     "name": "stderr",
     "output_type": "stream",
     "text": [
      "/home/mma/University/master_degree/Machine_Learning/project/final/venv/lib/python3.5/site-packages/sklearn/metrics/classification.py:1143: UndefinedMetricWarning: F-score is ill-defined and being set to 0.0 in labels with no predicted samples.\n  'precision', 'predicted', average, warn_for)\n/home/mma/University/master_degree/Machine_Learning/project/final/venv/lib/python3.5/site-packages/sklearn/utils/validation.py:761: DataConversionWarning: A column-vector y was passed when a 1d array was expected. Please change the shape of y to (n_samples, ), for example using ravel().\n  y = column_or_1d(y, warn=True)\n"
     ]
    },
    {
     "name": "stderr",
     "output_type": "stream",
     "text": [
      "/home/mma/University/master_degree/Machine_Learning/project/final/venv/lib/python3.5/site-packages/sklearn/metrics/classification.py:1143: UndefinedMetricWarning: F-score is ill-defined and being set to 0.0 in labels with no predicted samples.\n  'precision', 'predicted', average, warn_for)\n/home/mma/University/master_degree/Machine_Learning/project/final/venv/lib/python3.5/site-packages/sklearn/utils/validation.py:761: DataConversionWarning: A column-vector y was passed when a 1d array was expected. Please change the shape of y to (n_samples, ), for example using ravel().\n  y = column_or_1d(y, warn=True)\n"
     ]
    },
    {
     "name": "stderr",
     "output_type": "stream",
     "text": [
      "/home/mma/University/master_degree/Machine_Learning/project/final/venv/lib/python3.5/site-packages/sklearn/metrics/classification.py:1143: UndefinedMetricWarning: F-score is ill-defined and being set to 0.0 in labels with no predicted samples.\n  'precision', 'predicted', average, warn_for)\n/home/mma/University/master_degree/Machine_Learning/project/final/venv/lib/python3.5/site-packages/sklearn/utils/validation.py:761: DataConversionWarning: A column-vector y was passed when a 1d array was expected. Please change the shape of y to (n_samples, ), for example using ravel().\n  y = column_or_1d(y, warn=True)\n"
     ]
    },
    {
     "name": "stderr",
     "output_type": "stream",
     "text": [
      "/home/mma/University/master_degree/Machine_Learning/project/final/venv/lib/python3.5/site-packages/sklearn/metrics/classification.py:1143: UndefinedMetricWarning: F-score is ill-defined and being set to 0.0 in labels with no predicted samples.\n  'precision', 'predicted', average, warn_for)\n/home/mma/University/master_degree/Machine_Learning/project/final/venv/lib/python3.5/site-packages/sklearn/utils/validation.py:761: DataConversionWarning: A column-vector y was passed when a 1d array was expected. Please change the shape of y to (n_samples, ), for example using ravel().\n  y = column_or_1d(y, warn=True)\n"
     ]
    },
    {
     "name": "stdout",
     "output_type": "stream",
     "text": [
      "2.1 0.01\n"
     ]
    },
    {
     "name": "stderr",
     "output_type": "stream",
     "text": [
      "/home/mma/University/master_degree/Machine_Learning/project/final/venv/lib/python3.5/site-packages/sklearn/utils/validation.py:761: DataConversionWarning: A column-vector y was passed when a 1d array was expected. Please change the shape of y to (n_samples, ), for example using ravel().\n  y = column_or_1d(y, warn=True)\n"
     ]
    },
    {
     "name": "stderr",
     "output_type": "stream",
     "text": [
      "/home/mma/University/master_degree/Machine_Learning/project/final/venv/lib/python3.5/site-packages/sklearn/utils/validation.py:761: DataConversionWarning: A column-vector y was passed when a 1d array was expected. Please change the shape of y to (n_samples, ), for example using ravel().\n  y = column_or_1d(y, warn=True)\n"
     ]
    },
    {
     "name": "stderr",
     "output_type": "stream",
     "text": [
      "/home/mma/University/master_degree/Machine_Learning/project/final/venv/lib/python3.5/site-packages/sklearn/utils/validation.py:761: DataConversionWarning: A column-vector y was passed when a 1d array was expected. Please change the shape of y to (n_samples, ), for example using ravel().\n  y = column_or_1d(y, warn=True)\n"
     ]
    },
    {
     "name": "stderr",
     "output_type": "stream",
     "text": [
      "/home/mma/University/master_degree/Machine_Learning/project/final/venv/lib/python3.5/site-packages/sklearn/utils/validation.py:761: DataConversionWarning: A column-vector y was passed when a 1d array was expected. Please change the shape of y to (n_samples, ), for example using ravel().\n  y = column_or_1d(y, warn=True)\n"
     ]
    },
    {
     "name": "stdout",
     "output_type": "stream",
     "text": [
      "2.1 0.11\n"
     ]
    },
    {
     "name": "stderr",
     "output_type": "stream",
     "text": [
      "/home/mma/University/master_degree/Machine_Learning/project/final/venv/lib/python3.5/site-packages/sklearn/utils/validation.py:761: DataConversionWarning: A column-vector y was passed when a 1d array was expected. Please change the shape of y to (n_samples, ), for example using ravel().\n  y = column_or_1d(y, warn=True)\n"
     ]
    },
    {
     "name": "stderr",
     "output_type": "stream",
     "text": [
      "/home/mma/University/master_degree/Machine_Learning/project/final/venv/lib/python3.5/site-packages/sklearn/metrics/classification.py:1143: UndefinedMetricWarning: F-score is ill-defined and being set to 0.0 in labels with no predicted samples.\n  'precision', 'predicted', average, warn_for)\n/home/mma/University/master_degree/Machine_Learning/project/final/venv/lib/python3.5/site-packages/sklearn/utils/validation.py:761: DataConversionWarning: A column-vector y was passed when a 1d array was expected. Please change the shape of y to (n_samples, ), for example using ravel().\n  y = column_or_1d(y, warn=True)\n"
     ]
    },
    {
     "name": "stderr",
     "output_type": "stream",
     "text": [
      "/home/mma/University/master_degree/Machine_Learning/project/final/venv/lib/python3.5/site-packages/sklearn/utils/validation.py:761: DataConversionWarning: A column-vector y was passed when a 1d array was expected. Please change the shape of y to (n_samples, ), for example using ravel().\n  y = column_or_1d(y, warn=True)\n"
     ]
    },
    {
     "name": "stderr",
     "output_type": "stream",
     "text": [
      "/home/mma/University/master_degree/Machine_Learning/project/final/venv/lib/python3.5/site-packages/sklearn/utils/validation.py:761: DataConversionWarning: A column-vector y was passed when a 1d array was expected. Please change the shape of y to (n_samples, ), for example using ravel().\n  y = column_or_1d(y, warn=True)\n"
     ]
    },
    {
     "name": "stderr",
     "output_type": "stream",
     "text": [
      "/home/mma/University/master_degree/Machine_Learning/project/final/venv/lib/python3.5/site-packages/sklearn/utils/validation.py:761: DataConversionWarning: A column-vector y was passed when a 1d array was expected. Please change the shape of y to (n_samples, ), for example using ravel().\n  y = column_or_1d(y, warn=True)\n"
     ]
    },
    {
     "name": "stdout",
     "output_type": "stream",
     "text": [
      "2.1 0.21\n"
     ]
    },
    {
     "name": "stderr",
     "output_type": "stream",
     "text": [
      "/home/mma/University/master_degree/Machine_Learning/project/final/venv/lib/python3.5/site-packages/sklearn/utils/validation.py:761: DataConversionWarning: A column-vector y was passed when a 1d array was expected. Please change the shape of y to (n_samples, ), for example using ravel().\n  y = column_or_1d(y, warn=True)\n"
     ]
    },
    {
     "name": "stderr",
     "output_type": "stream",
     "text": [
      "/home/mma/University/master_degree/Machine_Learning/project/final/venv/lib/python3.5/site-packages/sklearn/metrics/classification.py:1143: UndefinedMetricWarning: F-score is ill-defined and being set to 0.0 in labels with no predicted samples.\n  'precision', 'predicted', average, warn_for)\n/home/mma/University/master_degree/Machine_Learning/project/final/venv/lib/python3.5/site-packages/sklearn/utils/validation.py:761: DataConversionWarning: A column-vector y was passed when a 1d array was expected. Please change the shape of y to (n_samples, ), for example using ravel().\n  y = column_or_1d(y, warn=True)\n"
     ]
    },
    {
     "name": "stderr",
     "output_type": "stream",
     "text": [
      "/home/mma/University/master_degree/Machine_Learning/project/final/venv/lib/python3.5/site-packages/sklearn/metrics/classification.py:1143: UndefinedMetricWarning: F-score is ill-defined and being set to 0.0 in labels with no predicted samples.\n  'precision', 'predicted', average, warn_for)\n/home/mma/University/master_degree/Machine_Learning/project/final/venv/lib/python3.5/site-packages/sklearn/utils/validation.py:761: DataConversionWarning: A column-vector y was passed when a 1d array was expected. Please change the shape of y to (n_samples, ), for example using ravel().\n  y = column_or_1d(y, warn=True)\n"
     ]
    },
    {
     "name": "stderr",
     "output_type": "stream",
     "text": [
      "/home/mma/University/master_degree/Machine_Learning/project/final/venv/lib/python3.5/site-packages/sklearn/metrics/classification.py:1143: UndefinedMetricWarning: F-score is ill-defined and being set to 0.0 in labels with no predicted samples.\n  'precision', 'predicted', average, warn_for)\n/home/mma/University/master_degree/Machine_Learning/project/final/venv/lib/python3.5/site-packages/sklearn/utils/validation.py:761: DataConversionWarning: A column-vector y was passed when a 1d array was expected. Please change the shape of y to (n_samples, ), for example using ravel().\n  y = column_or_1d(y, warn=True)\n"
     ]
    },
    {
     "name": "stderr",
     "output_type": "stream",
     "text": [
      "/home/mma/University/master_degree/Machine_Learning/project/final/venv/lib/python3.5/site-packages/sklearn/metrics/classification.py:1143: UndefinedMetricWarning: F-score is ill-defined and being set to 0.0 in labels with no predicted samples.\n  'precision', 'predicted', average, warn_for)\n/home/mma/University/master_degree/Machine_Learning/project/final/venv/lib/python3.5/site-packages/sklearn/utils/validation.py:761: DataConversionWarning: A column-vector y was passed when a 1d array was expected. Please change the shape of y to (n_samples, ), for example using ravel().\n  y = column_or_1d(y, warn=True)\n"
     ]
    },
    {
     "name": "stderr",
     "output_type": "stream",
     "text": [
      "/home/mma/University/master_degree/Machine_Learning/project/final/venv/lib/python3.5/site-packages/sklearn/metrics/classification.py:1143: UndefinedMetricWarning: F-score is ill-defined and being set to 0.0 in labels with no predicted samples.\n  'precision', 'predicted', average, warn_for)\n/home/mma/University/master_degree/Machine_Learning/project/final/venv/lib/python3.5/site-packages/sklearn/utils/validation.py:761: DataConversionWarning: A column-vector y was passed when a 1d array was expected. Please change the shape of y to (n_samples, ), for example using ravel().\n  y = column_or_1d(y, warn=True)\n"
     ]
    },
    {
     "name": "stderr",
     "output_type": "stream",
     "text": [
      "/home/mma/University/master_degree/Machine_Learning/project/final/venv/lib/python3.5/site-packages/sklearn/utils/validation.py:761: DataConversionWarning: A column-vector y was passed when a 1d array was expected. Please change the shape of y to (n_samples, ), for example using ravel().\n  y = column_or_1d(y, warn=True)\n"
     ]
    },
    {
     "name": "stderr",
     "output_type": "stream",
     "text": [
      "/home/mma/University/master_degree/Machine_Learning/project/final/venv/lib/python3.5/site-packages/sklearn/utils/validation.py:761: DataConversionWarning: A column-vector y was passed when a 1d array was expected. Please change the shape of y to (n_samples, ), for example using ravel().\n  y = column_or_1d(y, warn=True)\n"
     ]
    },
    {
     "name": "stderr",
     "output_type": "stream",
     "text": [
      "/home/mma/University/master_degree/Machine_Learning/project/final/venv/lib/python3.5/site-packages/sklearn/utils/validation.py:761: DataConversionWarning: A column-vector y was passed when a 1d array was expected. Please change the shape of y to (n_samples, ), for example using ravel().\n  y = column_or_1d(y, warn=True)\n"
     ]
    },
    {
     "name": "stderr",
     "output_type": "stream",
     "text": [
      "/home/mma/University/master_degree/Machine_Learning/project/final/venv/lib/python3.5/site-packages/sklearn/utils/validation.py:761: DataConversionWarning: A column-vector y was passed when a 1d array was expected. Please change the shape of y to (n_samples, ), for example using ravel().\n  y = column_or_1d(y, warn=True)\n"
     ]
    }
   ],
   "source": [
    "from sklearn.svm import SVC\n",
    "best_score = 0\n",
    "for c in list(map(lambda x: x / 10, range(11, 22, 5))):\n",
    "    for g in list(map(lambda x: x / 100, range(1, 22, 10))):\n",
    "        print(c, g)\n",
    "        clf = SVC(kernel='rbf', C=c, gamma=g, decision_function_shape='ovo')\n",
    "        scores = cross_val_score(clf, X=X_train, y=Y_train, cv=5, scoring='f1_macro')\n",
    "        if scores.mean() > best_score:\n",
    "            best_score = scores.mean()\n",
    "            best_C, best_gamma = c, g\n",
    "            \n",
    "svm_clf = SVC(kernel='rbf', C=best_C, gamma=best_gamma, decision_function_shape='ovo')\n",
    "scores = cross_val_score(svm_clf, X=X_train, y=Y_train, cv=5, scoring='f1_macro')"
   ]
  },
  {
   "cell_type": "code",
   "execution_count": 13,
   "metadata": {},
   "outputs": [
    {
     "name": "stdout",
     "output_type": "stream",
     "text": [
      "Best C :  2.1 Best Gamma :  0.01\nF1-Score: 0.87 (+/- 0.04)\n"
     ]
    }
   ],
   "source": [
    "print(\"Best C : \", best_C, \"Best Gamma : \", best_gamma)\n",
    "print(\"F1-Score: %0.2f (+/- %0.2f)\" % (scores.mean(), scores.std() * 2))"
   ]
  },
  {
   "cell_type": "code",
   "execution_count": 14,
   "metadata": {},
   "outputs": [
    {
     "name": "stdout",
     "output_type": "stream",
     "text": [
      "50 0.01\n"
     ]
    },
    {
     "name": "stderr",
     "output_type": "stream",
     "text": [
      "/home/mma/University/master_degree/Machine_Learning/project/final/venv/lib/python3.5/site-packages/sklearn/utils/validation.py:761: DataConversionWarning: A column-vector y was passed when a 1d array was expected. Please change the shape of y to (n_samples, ), for example using ravel().\n  y = column_or_1d(y, warn=True)\n"
     ]
    },
    {
     "name": "stderr",
     "output_type": "stream",
     "text": [
      "/home/mma/University/master_degree/Machine_Learning/project/final/venv/lib/python3.5/site-packages/sklearn/metrics/classification.py:1143: UndefinedMetricWarning: F-score is ill-defined and being set to 0.0 in labels with no predicted samples.\n  'precision', 'predicted', average, warn_for)\n/home/mma/University/master_degree/Machine_Learning/project/final/venv/lib/python3.5/site-packages/sklearn/utils/validation.py:761: DataConversionWarning: A column-vector y was passed when a 1d array was expected. Please change the shape of y to (n_samples, ), for example using ravel().\n  y = column_or_1d(y, warn=True)\n"
     ]
    },
    {
     "name": "stderr",
     "output_type": "stream",
     "text": [
      "/home/mma/University/master_degree/Machine_Learning/project/final/venv/lib/python3.5/site-packages/sklearn/metrics/classification.py:1143: UndefinedMetricWarning: F-score is ill-defined and being set to 0.0 in labels with no predicted samples.\n  'precision', 'predicted', average, warn_for)\n/home/mma/University/master_degree/Machine_Learning/project/final/venv/lib/python3.5/site-packages/sklearn/utils/validation.py:761: DataConversionWarning: A column-vector y was passed when a 1d array was expected. Please change the shape of y to (n_samples, ), for example using ravel().\n  y = column_or_1d(y, warn=True)\n"
     ]
    },
    {
     "name": "stderr",
     "output_type": "stream",
     "text": [
      "/home/mma/University/master_degree/Machine_Learning/project/final/venv/lib/python3.5/site-packages/sklearn/metrics/classification.py:1143: UndefinedMetricWarning: F-score is ill-defined and being set to 0.0 in labels with no predicted samples.\n  'precision', 'predicted', average, warn_for)\n/home/mma/University/master_degree/Machine_Learning/project/final/venv/lib/python3.5/site-packages/sklearn/utils/validation.py:761: DataConversionWarning: A column-vector y was passed when a 1d array was expected. Please change the shape of y to (n_samples, ), for example using ravel().\n  y = column_or_1d(y, warn=True)\n"
     ]
    },
    {
     "name": "stderr",
     "output_type": "stream",
     "text": [
      "/home/mma/University/master_degree/Machine_Learning/project/final/venv/lib/python3.5/site-packages/sklearn/metrics/classification.py:1143: UndefinedMetricWarning: F-score is ill-defined and being set to 0.0 in labels with no predicted samples.\n  'precision', 'predicted', average, warn_for)\n/home/mma/University/master_degree/Machine_Learning/project/final/venv/lib/python3.5/site-packages/sklearn/utils/validation.py:761: DataConversionWarning: A column-vector y was passed when a 1d array was expected. Please change the shape of y to (n_samples, ), for example using ravel().\n  y = column_or_1d(y, warn=True)\n"
     ]
    },
    {
     "name": "stderr",
     "output_type": "stream",
     "text": [
      "/home/mma/University/master_degree/Machine_Learning/project/final/venv/lib/python3.5/site-packages/sklearn/metrics/classification.py:1143: UndefinedMetricWarning: F-score is ill-defined and being set to 0.0 in labels with no predicted samples.\n  'precision', 'predicted', average, warn_for)\n/home/mma/University/master_degree/Machine_Learning/project/final/venv/lib/python3.5/site-packages/sklearn/utils/validation.py:761: DataConversionWarning: A column-vector y was passed when a 1d array was expected. Please change the shape of y to (n_samples, ), for example using ravel().\n  y = column_or_1d(y, warn=True)\n"
     ]
    },
    {
     "name": "stdout",
     "output_type": "stream",
     "text": [
      "50 0.21\n"
     ]
    },
    {
     "name": "stderr",
     "output_type": "stream",
     "text": [
      "/home/mma/University/master_degree/Machine_Learning/project/final/venv/lib/python3.5/site-packages/sklearn/metrics/classification.py:1143: UndefinedMetricWarning: F-score is ill-defined and being set to 0.0 in labels with no predicted samples.\n  'precision', 'predicted', average, warn_for)\n/home/mma/University/master_degree/Machine_Learning/project/final/venv/lib/python3.5/site-packages/sklearn/utils/validation.py:761: DataConversionWarning: A column-vector y was passed when a 1d array was expected. Please change the shape of y to (n_samples, ), for example using ravel().\n  y = column_or_1d(y, warn=True)\n"
     ]
    },
    {
     "name": "stderr",
     "output_type": "stream",
     "text": [
      "/home/mma/University/master_degree/Machine_Learning/project/final/venv/lib/python3.5/site-packages/sklearn/metrics/classification.py:1143: UndefinedMetricWarning: F-score is ill-defined and being set to 0.0 in labels with no predicted samples.\n  'precision', 'predicted', average, warn_for)\n/home/mma/University/master_degree/Machine_Learning/project/final/venv/lib/python3.5/site-packages/sklearn/utils/validation.py:761: DataConversionWarning: A column-vector y was passed when a 1d array was expected. Please change the shape of y to (n_samples, ), for example using ravel().\n  y = column_or_1d(y, warn=True)\n"
     ]
    },
    {
     "name": "stderr",
     "output_type": "stream",
     "text": [
      "/home/mma/University/master_degree/Machine_Learning/project/final/venv/lib/python3.5/site-packages/sklearn/metrics/classification.py:1143: UndefinedMetricWarning: F-score is ill-defined and being set to 0.0 in labels with no predicted samples.\n  'precision', 'predicted', average, warn_for)\n/home/mma/University/master_degree/Machine_Learning/project/final/venv/lib/python3.5/site-packages/sklearn/utils/validation.py:761: DataConversionWarning: A column-vector y was passed when a 1d array was expected. Please change the shape of y to (n_samples, ), for example using ravel().\n  y = column_or_1d(y, warn=True)\n"
     ]
    },
    {
     "name": "stderr",
     "output_type": "stream",
     "text": [
      "/home/mma/University/master_degree/Machine_Learning/project/final/venv/lib/python3.5/site-packages/sklearn/metrics/classification.py:1143: UndefinedMetricWarning: F-score is ill-defined and being set to 0.0 in labels with no predicted samples.\n  'precision', 'predicted', average, warn_for)\n/home/mma/University/master_degree/Machine_Learning/project/final/venv/lib/python3.5/site-packages/sklearn/utils/validation.py:761: DataConversionWarning: A column-vector y was passed when a 1d array was expected. Please change the shape of y to (n_samples, ), for example using ravel().\n  y = column_or_1d(y, warn=True)\n"
     ]
    },
    {
     "name": "stderr",
     "output_type": "stream",
     "text": [
      "/home/mma/University/master_degree/Machine_Learning/project/final/venv/lib/python3.5/site-packages/sklearn/metrics/classification.py:1143: UndefinedMetricWarning: F-score is ill-defined and being set to 0.0 in labels with no predicted samples.\n  'precision', 'predicted', average, warn_for)\n/home/mma/University/master_degree/Machine_Learning/project/final/venv/lib/python3.5/site-packages/sklearn/utils/validation.py:761: DataConversionWarning: A column-vector y was passed when a 1d array was expected. Please change the shape of y to (n_samples, ), for example using ravel().\n  y = column_or_1d(y, warn=True)\n"
     ]
    },
    {
     "name": "stdout",
     "output_type": "stream",
     "text": [
      "50 0.41\n"
     ]
    },
    {
     "name": "stderr",
     "output_type": "stream",
     "text": [
      "/home/mma/University/master_degree/Machine_Learning/project/final/venv/lib/python3.5/site-packages/sklearn/utils/validation.py:761: DataConversionWarning: A column-vector y was passed when a 1d array was expected. Please change the shape of y to (n_samples, ), for example using ravel().\n  y = column_or_1d(y, warn=True)\n"
     ]
    },
    {
     "name": "stderr",
     "output_type": "stream",
     "text": [
      "/home/mma/University/master_degree/Machine_Learning/project/final/venv/lib/python3.5/site-packages/sklearn/metrics/classification.py:1143: UndefinedMetricWarning: F-score is ill-defined and being set to 0.0 in labels with no predicted samples.\n  'precision', 'predicted', average, warn_for)\n/home/mma/University/master_degree/Machine_Learning/project/final/venv/lib/python3.5/site-packages/sklearn/utils/validation.py:761: DataConversionWarning: A column-vector y was passed when a 1d array was expected. Please change the shape of y to (n_samples, ), for example using ravel().\n  y = column_or_1d(y, warn=True)\n"
     ]
    },
    {
     "name": "stderr",
     "output_type": "stream",
     "text": [
      "/home/mma/University/master_degree/Machine_Learning/project/final/venv/lib/python3.5/site-packages/sklearn/metrics/classification.py:1143: UndefinedMetricWarning: F-score is ill-defined and being set to 0.0 in labels with no predicted samples.\n  'precision', 'predicted', average, warn_for)\n/home/mma/University/master_degree/Machine_Learning/project/final/venv/lib/python3.5/site-packages/sklearn/utils/validation.py:761: DataConversionWarning: A column-vector y was passed when a 1d array was expected. Please change the shape of y to (n_samples, ), for example using ravel().\n  y = column_or_1d(y, warn=True)\n"
     ]
    },
    {
     "name": "stderr",
     "output_type": "stream",
     "text": [
      "/home/mma/University/master_degree/Machine_Learning/project/final/venv/lib/python3.5/site-packages/sklearn/metrics/classification.py:1143: UndefinedMetricWarning: F-score is ill-defined and being set to 0.0 in labels with no predicted samples.\n  'precision', 'predicted', average, warn_for)\n/home/mma/University/master_degree/Machine_Learning/project/final/venv/lib/python3.5/site-packages/sklearn/utils/validation.py:761: DataConversionWarning: A column-vector y was passed when a 1d array was expected. Please change the shape of y to (n_samples, ), for example using ravel().\n  y = column_or_1d(y, warn=True)\n"
     ]
    },
    {
     "name": "stderr",
     "output_type": "stream",
     "text": [
      "/home/mma/University/master_degree/Machine_Learning/project/final/venv/lib/python3.5/site-packages/sklearn/metrics/classification.py:1143: UndefinedMetricWarning: F-score is ill-defined and being set to 0.0 in labels with no predicted samples.\n  'precision', 'predicted', average, warn_for)\n/home/mma/University/master_degree/Machine_Learning/project/final/venv/lib/python3.5/site-packages/sklearn/utils/validation.py:761: DataConversionWarning: A column-vector y was passed when a 1d array was expected. Please change the shape of y to (n_samples, ), for example using ravel().\n  y = column_or_1d(y, warn=True)\n"
     ]
    },
    {
     "name": "stdout",
     "output_type": "stream",
     "text": [
      "60 0.01\n"
     ]
    },
    {
     "name": "stderr",
     "output_type": "stream",
     "text": [
      "/home/mma/University/master_degree/Machine_Learning/project/final/venv/lib/python3.5/site-packages/sklearn/metrics/classification.py:1143: UndefinedMetricWarning: F-score is ill-defined and being set to 0.0 in labels with no predicted samples.\n  'precision', 'predicted', average, warn_for)\n/home/mma/University/master_degree/Machine_Learning/project/final/venv/lib/python3.5/site-packages/sklearn/utils/validation.py:761: DataConversionWarning: A column-vector y was passed when a 1d array was expected. Please change the shape of y to (n_samples, ), for example using ravel().\n  y = column_or_1d(y, warn=True)\n"
     ]
    },
    {
     "name": "stderr",
     "output_type": "stream",
     "text": [
      "/home/mma/University/master_degree/Machine_Learning/project/final/venv/lib/python3.5/site-packages/sklearn/metrics/classification.py:1143: UndefinedMetricWarning: F-score is ill-defined and being set to 0.0 in labels with no predicted samples.\n  'precision', 'predicted', average, warn_for)\n/home/mma/University/master_degree/Machine_Learning/project/final/venv/lib/python3.5/site-packages/sklearn/utils/validation.py:761: DataConversionWarning: A column-vector y was passed when a 1d array was expected. Please change the shape of y to (n_samples, ), for example using ravel().\n  y = column_or_1d(y, warn=True)\n"
     ]
    },
    {
     "name": "stderr",
     "output_type": "stream",
     "text": [
      "/home/mma/University/master_degree/Machine_Learning/project/final/venv/lib/python3.5/site-packages/sklearn/metrics/classification.py:1143: UndefinedMetricWarning: F-score is ill-defined and being set to 0.0 in labels with no predicted samples.\n  'precision', 'predicted', average, warn_for)\n/home/mma/University/master_degree/Machine_Learning/project/final/venv/lib/python3.5/site-packages/sklearn/utils/validation.py:761: DataConversionWarning: A column-vector y was passed when a 1d array was expected. Please change the shape of y to (n_samples, ), for example using ravel().\n  y = column_or_1d(y, warn=True)\n"
     ]
    },
    {
     "name": "stderr",
     "output_type": "stream",
     "text": [
      "/home/mma/University/master_degree/Machine_Learning/project/final/venv/lib/python3.5/site-packages/sklearn/metrics/classification.py:1143: UndefinedMetricWarning: F-score is ill-defined and being set to 0.0 in labels with no predicted samples.\n  'precision', 'predicted', average, warn_for)\n/home/mma/University/master_degree/Machine_Learning/project/final/venv/lib/python3.5/site-packages/sklearn/utils/validation.py:761: DataConversionWarning: A column-vector y was passed when a 1d array was expected. Please change the shape of y to (n_samples, ), for example using ravel().\n  y = column_or_1d(y, warn=True)\n"
     ]
    },
    {
     "name": "stderr",
     "output_type": "stream",
     "text": [
      "/home/mma/University/master_degree/Machine_Learning/project/final/venv/lib/python3.5/site-packages/sklearn/metrics/classification.py:1143: UndefinedMetricWarning: F-score is ill-defined and being set to 0.0 in labels with no predicted samples.\n  'precision', 'predicted', average, warn_for)\n/home/mma/University/master_degree/Machine_Learning/project/final/venv/lib/python3.5/site-packages/sklearn/utils/validation.py:761: DataConversionWarning: A column-vector y was passed when a 1d array was expected. Please change the shape of y to (n_samples, ), for example using ravel().\n  y = column_or_1d(y, warn=True)\n"
     ]
    },
    {
     "name": "stdout",
     "output_type": "stream",
     "text": [
      "60 0.21\n"
     ]
    },
    {
     "name": "stderr",
     "output_type": "stream",
     "text": [
      "/home/mma/University/master_degree/Machine_Learning/project/final/venv/lib/python3.5/site-packages/sklearn/metrics/classification.py:1143: UndefinedMetricWarning: F-score is ill-defined and being set to 0.0 in labels with no predicted samples.\n  'precision', 'predicted', average, warn_for)\n/home/mma/University/master_degree/Machine_Learning/project/final/venv/lib/python3.5/site-packages/sklearn/utils/validation.py:761: DataConversionWarning: A column-vector y was passed when a 1d array was expected. Please change the shape of y to (n_samples, ), for example using ravel().\n  y = column_or_1d(y, warn=True)\n"
     ]
    },
    {
     "name": "stderr",
     "output_type": "stream",
     "text": [
      "/home/mma/University/master_degree/Machine_Learning/project/final/venv/lib/python3.5/site-packages/sklearn/metrics/classification.py:1143: UndefinedMetricWarning: F-score is ill-defined and being set to 0.0 in labels with no predicted samples.\n  'precision', 'predicted', average, warn_for)\n/home/mma/University/master_degree/Machine_Learning/project/final/venv/lib/python3.5/site-packages/sklearn/utils/validation.py:761: DataConversionWarning: A column-vector y was passed when a 1d array was expected. Please change the shape of y to (n_samples, ), for example using ravel().\n  y = column_or_1d(y, warn=True)\n"
     ]
    },
    {
     "name": "stderr",
     "output_type": "stream",
     "text": [
      "/home/mma/University/master_degree/Machine_Learning/project/final/venv/lib/python3.5/site-packages/sklearn/metrics/classification.py:1143: UndefinedMetricWarning: F-score is ill-defined and being set to 0.0 in labels with no predicted samples.\n  'precision', 'predicted', average, warn_for)\n/home/mma/University/master_degree/Machine_Learning/project/final/venv/lib/python3.5/site-packages/sklearn/utils/validation.py:761: DataConversionWarning: A column-vector y was passed when a 1d array was expected. Please change the shape of y to (n_samples, ), for example using ravel().\n  y = column_or_1d(y, warn=True)\n"
     ]
    },
    {
     "name": "stderr",
     "output_type": "stream",
     "text": [
      "/home/mma/University/master_degree/Machine_Learning/project/final/venv/lib/python3.5/site-packages/sklearn/metrics/classification.py:1143: UndefinedMetricWarning: F-score is ill-defined and being set to 0.0 in labels with no predicted samples.\n  'precision', 'predicted', average, warn_for)\n/home/mma/University/master_degree/Machine_Learning/project/final/venv/lib/python3.5/site-packages/sklearn/utils/validation.py:761: DataConversionWarning: A column-vector y was passed when a 1d array was expected. Please change the shape of y to (n_samples, ), for example using ravel().\n  y = column_or_1d(y, warn=True)\n"
     ]
    },
    {
     "name": "stderr",
     "output_type": "stream",
     "text": [
      "/home/mma/University/master_degree/Machine_Learning/project/final/venv/lib/python3.5/site-packages/sklearn/metrics/classification.py:1143: UndefinedMetricWarning: F-score is ill-defined and being set to 0.0 in labels with no predicted samples.\n  'precision', 'predicted', average, warn_for)\n/home/mma/University/master_degree/Machine_Learning/project/final/venv/lib/python3.5/site-packages/sklearn/utils/validation.py:761: DataConversionWarning: A column-vector y was passed when a 1d array was expected. Please change the shape of y to (n_samples, ), for example using ravel().\n  y = column_or_1d(y, warn=True)\n"
     ]
    },
    {
     "name": "stdout",
     "output_type": "stream",
     "text": [
      "60 0.41\n"
     ]
    },
    {
     "name": "stderr",
     "output_type": "stream",
     "text": [
      "/home/mma/University/master_degree/Machine_Learning/project/final/venv/lib/python3.5/site-packages/sklearn/utils/validation.py:761: DataConversionWarning: A column-vector y was passed when a 1d array was expected. Please change the shape of y to (n_samples, ), for example using ravel().\n  y = column_or_1d(y, warn=True)\n"
     ]
    },
    {
     "name": "stderr",
     "output_type": "stream",
     "text": [
      "/home/mma/University/master_degree/Machine_Learning/project/final/venv/lib/python3.5/site-packages/sklearn/metrics/classification.py:1143: UndefinedMetricWarning: F-score is ill-defined and being set to 0.0 in labels with no predicted samples.\n  'precision', 'predicted', average, warn_for)\n/home/mma/University/master_degree/Machine_Learning/project/final/venv/lib/python3.5/site-packages/sklearn/utils/validation.py:761: DataConversionWarning: A column-vector y was passed when a 1d array was expected. Please change the shape of y to (n_samples, ), for example using ravel().\n  y = column_or_1d(y, warn=True)\n"
     ]
    },
    {
     "name": "stderr",
     "output_type": "stream",
     "text": [
      "/home/mma/University/master_degree/Machine_Learning/project/final/venv/lib/python3.5/site-packages/sklearn/utils/validation.py:761: DataConversionWarning: A column-vector y was passed when a 1d array was expected. Please change the shape of y to (n_samples, ), for example using ravel().\n  y = column_or_1d(y, warn=True)\n"
     ]
    },
    {
     "name": "stderr",
     "output_type": "stream",
     "text": [
      "/home/mma/University/master_degree/Machine_Learning/project/final/venv/lib/python3.5/site-packages/sklearn/metrics/classification.py:1143: UndefinedMetricWarning: F-score is ill-defined and being set to 0.0 in labels with no predicted samples.\n  'precision', 'predicted', average, warn_for)\n/home/mma/University/master_degree/Machine_Learning/project/final/venv/lib/python3.5/site-packages/sklearn/utils/validation.py:761: DataConversionWarning: A column-vector y was passed when a 1d array was expected. Please change the shape of y to (n_samples, ), for example using ravel().\n  y = column_or_1d(y, warn=True)\n"
     ]
    },
    {
     "name": "stderr",
     "output_type": "stream",
     "text": [
      "/home/mma/University/master_degree/Machine_Learning/project/final/venv/lib/python3.5/site-packages/sklearn/metrics/classification.py:1143: UndefinedMetricWarning: F-score is ill-defined and being set to 0.0 in labels with no predicted samples.\n  'precision', 'predicted', average, warn_for)\n/home/mma/University/master_degree/Machine_Learning/project/final/venv/lib/python3.5/site-packages/sklearn/utils/validation.py:761: DataConversionWarning: A column-vector y was passed when a 1d array was expected. Please change the shape of y to (n_samples, ), for example using ravel().\n  y = column_or_1d(y, warn=True)\n"
     ]
    },
    {
     "name": "stdout",
     "output_type": "stream",
     "text": [
      "70 0.01\n"
     ]
    },
    {
     "name": "stderr",
     "output_type": "stream",
     "text": [
      "/home/mma/University/master_degree/Machine_Learning/project/final/venv/lib/python3.5/site-packages/sklearn/metrics/classification.py:1143: UndefinedMetricWarning: F-score is ill-defined and being set to 0.0 in labels with no predicted samples.\n  'precision', 'predicted', average, warn_for)\n/home/mma/University/master_degree/Machine_Learning/project/final/venv/lib/python3.5/site-packages/sklearn/utils/validation.py:761: DataConversionWarning: A column-vector y was passed when a 1d array was expected. Please change the shape of y to (n_samples, ), for example using ravel().\n  y = column_or_1d(y, warn=True)\n"
     ]
    },
    {
     "name": "stderr",
     "output_type": "stream",
     "text": [
      "/home/mma/University/master_degree/Machine_Learning/project/final/venv/lib/python3.5/site-packages/sklearn/metrics/classification.py:1143: UndefinedMetricWarning: F-score is ill-defined and being set to 0.0 in labels with no predicted samples.\n  'precision', 'predicted', average, warn_for)\n/home/mma/University/master_degree/Machine_Learning/project/final/venv/lib/python3.5/site-packages/sklearn/utils/validation.py:761: DataConversionWarning: A column-vector y was passed when a 1d array was expected. Please change the shape of y to (n_samples, ), for example using ravel().\n  y = column_or_1d(y, warn=True)\n"
     ]
    },
    {
     "name": "stderr",
     "output_type": "stream",
     "text": [
      "/home/mma/University/master_degree/Machine_Learning/project/final/venv/lib/python3.5/site-packages/sklearn/metrics/classification.py:1143: UndefinedMetricWarning: F-score is ill-defined and being set to 0.0 in labels with no predicted samples.\n  'precision', 'predicted', average, warn_for)\n/home/mma/University/master_degree/Machine_Learning/project/final/venv/lib/python3.5/site-packages/sklearn/utils/validation.py:761: DataConversionWarning: A column-vector y was passed when a 1d array was expected. Please change the shape of y to (n_samples, ), for example using ravel().\n  y = column_or_1d(y, warn=True)\n"
     ]
    },
    {
     "name": "stderr",
     "output_type": "stream",
     "text": [
      "/home/mma/University/master_degree/Machine_Learning/project/final/venv/lib/python3.5/site-packages/sklearn/metrics/classification.py:1143: UndefinedMetricWarning: F-score is ill-defined and being set to 0.0 in labels with no predicted samples.\n  'precision', 'predicted', average, warn_for)\n/home/mma/University/master_degree/Machine_Learning/project/final/venv/lib/python3.5/site-packages/sklearn/utils/validation.py:761: DataConversionWarning: A column-vector y was passed when a 1d array was expected. Please change the shape of y to (n_samples, ), for example using ravel().\n  y = column_or_1d(y, warn=True)\n"
     ]
    },
    {
     "name": "stderr",
     "output_type": "stream",
     "text": [
      "/home/mma/University/master_degree/Machine_Learning/project/final/venv/lib/python3.5/site-packages/sklearn/metrics/classification.py:1143: UndefinedMetricWarning: F-score is ill-defined and being set to 0.0 in labels with no predicted samples.\n  'precision', 'predicted', average, warn_for)\n/home/mma/University/master_degree/Machine_Learning/project/final/venv/lib/python3.5/site-packages/sklearn/utils/validation.py:761: DataConversionWarning: A column-vector y was passed when a 1d array was expected. Please change the shape of y to (n_samples, ), for example using ravel().\n  y = column_or_1d(y, warn=True)\n"
     ]
    },
    {
     "name": "stdout",
     "output_type": "stream",
     "text": [
      "70 0.21\n"
     ]
    },
    {
     "name": "stderr",
     "output_type": "stream",
     "text": [
      "/home/mma/University/master_degree/Machine_Learning/project/final/venv/lib/python3.5/site-packages/sklearn/metrics/classification.py:1143: UndefinedMetricWarning: F-score is ill-defined and being set to 0.0 in labels with no predicted samples.\n  'precision', 'predicted', average, warn_for)\n/home/mma/University/master_degree/Machine_Learning/project/final/venv/lib/python3.5/site-packages/sklearn/utils/validation.py:761: DataConversionWarning: A column-vector y was passed when a 1d array was expected. Please change the shape of y to (n_samples, ), for example using ravel().\n  y = column_or_1d(y, warn=True)\n"
     ]
    },
    {
     "name": "stderr",
     "output_type": "stream",
     "text": [
      "/home/mma/University/master_degree/Machine_Learning/project/final/venv/lib/python3.5/site-packages/sklearn/metrics/classification.py:1143: UndefinedMetricWarning: F-score is ill-defined and being set to 0.0 in labels with no predicted samples.\n  'precision', 'predicted', average, warn_for)\n/home/mma/University/master_degree/Machine_Learning/project/final/venv/lib/python3.5/site-packages/sklearn/utils/validation.py:761: DataConversionWarning: A column-vector y was passed when a 1d array was expected. Please change the shape of y to (n_samples, ), for example using ravel().\n  y = column_or_1d(y, warn=True)\n"
     ]
    },
    {
     "name": "stderr",
     "output_type": "stream",
     "text": [
      "/home/mma/University/master_degree/Machine_Learning/project/final/venv/lib/python3.5/site-packages/sklearn/metrics/classification.py:1143: UndefinedMetricWarning: F-score is ill-defined and being set to 0.0 in labels with no predicted samples.\n  'precision', 'predicted', average, warn_for)\n/home/mma/University/master_degree/Machine_Learning/project/final/venv/lib/python3.5/site-packages/sklearn/utils/validation.py:761: DataConversionWarning: A column-vector y was passed when a 1d array was expected. Please change the shape of y to (n_samples, ), for example using ravel().\n  y = column_or_1d(y, warn=True)\n"
     ]
    },
    {
     "name": "stderr",
     "output_type": "stream",
     "text": [
      "/home/mma/University/master_degree/Machine_Learning/project/final/venv/lib/python3.5/site-packages/sklearn/metrics/classification.py:1143: UndefinedMetricWarning: F-score is ill-defined and being set to 0.0 in labels with no predicted samples.\n  'precision', 'predicted', average, warn_for)\n/home/mma/University/master_degree/Machine_Learning/project/final/venv/lib/python3.5/site-packages/sklearn/utils/validation.py:761: DataConversionWarning: A column-vector y was passed when a 1d array was expected. Please change the shape of y to (n_samples, ), for example using ravel().\n  y = column_or_1d(y, warn=True)\n"
     ]
    },
    {
     "name": "stderr",
     "output_type": "stream",
     "text": [
      "/home/mma/University/master_degree/Machine_Learning/project/final/venv/lib/python3.5/site-packages/sklearn/metrics/classification.py:1143: UndefinedMetricWarning: F-score is ill-defined and being set to 0.0 in labels with no predicted samples.\n  'precision', 'predicted', average, warn_for)\n/home/mma/University/master_degree/Machine_Learning/project/final/venv/lib/python3.5/site-packages/sklearn/utils/validation.py:761: DataConversionWarning: A column-vector y was passed when a 1d array was expected. Please change the shape of y to (n_samples, ), for example using ravel().\n  y = column_or_1d(y, warn=True)\n"
     ]
    },
    {
     "name": "stdout",
     "output_type": "stream",
     "text": [
      "70 0.41\n"
     ]
    },
    {
     "name": "stderr",
     "output_type": "stream",
     "text": [
      "/home/mma/University/master_degree/Machine_Learning/project/final/venv/lib/python3.5/site-packages/sklearn/utils/validation.py:761: DataConversionWarning: A column-vector y was passed when a 1d array was expected. Please change the shape of y to (n_samples, ), for example using ravel().\n  y = column_or_1d(y, warn=True)\n"
     ]
    },
    {
     "name": "stderr",
     "output_type": "stream",
     "text": [
      "/home/mma/University/master_degree/Machine_Learning/project/final/venv/lib/python3.5/site-packages/sklearn/metrics/classification.py:1143: UndefinedMetricWarning: F-score is ill-defined and being set to 0.0 in labels with no predicted samples.\n  'precision', 'predicted', average, warn_for)\n/home/mma/University/master_degree/Machine_Learning/project/final/venv/lib/python3.5/site-packages/sklearn/utils/validation.py:761: DataConversionWarning: A column-vector y was passed when a 1d array was expected. Please change the shape of y to (n_samples, ), for example using ravel().\n  y = column_or_1d(y, warn=True)\n"
     ]
    },
    {
     "name": "stderr",
     "output_type": "stream",
     "text": [
      "/home/mma/University/master_degree/Machine_Learning/project/final/venv/lib/python3.5/site-packages/sklearn/utils/validation.py:761: DataConversionWarning: A column-vector y was passed when a 1d array was expected. Please change the shape of y to (n_samples, ), for example using ravel().\n  y = column_or_1d(y, warn=True)\n"
     ]
    },
    {
     "name": "stderr",
     "output_type": "stream",
     "text": [
      "/home/mma/University/master_degree/Machine_Learning/project/final/venv/lib/python3.5/site-packages/sklearn/metrics/classification.py:1143: UndefinedMetricWarning: F-score is ill-defined and being set to 0.0 in labels with no predicted samples.\n  'precision', 'predicted', average, warn_for)\n/home/mma/University/master_degree/Machine_Learning/project/final/venv/lib/python3.5/site-packages/sklearn/utils/validation.py:761: DataConversionWarning: A column-vector y was passed when a 1d array was expected. Please change the shape of y to (n_samples, ), for example using ravel().\n  y = column_or_1d(y, warn=True)\n"
     ]
    },
    {
     "name": "stderr",
     "output_type": "stream",
     "text": [
      "/home/mma/University/master_degree/Machine_Learning/project/final/venv/lib/python3.5/site-packages/sklearn/metrics/classification.py:1143: UndefinedMetricWarning: F-score is ill-defined and being set to 0.0 in labels with no predicted samples.\n  'precision', 'predicted', average, warn_for)\n/home/mma/University/master_degree/Machine_Learning/project/final/venv/lib/python3.5/site-packages/sklearn/utils/validation.py:761: DataConversionWarning: A column-vector y was passed when a 1d array was expected. Please change the shape of y to (n_samples, ), for example using ravel().\n  y = column_or_1d(y, warn=True)\n"
     ]
    },
    {
     "name": "stderr",
     "output_type": "stream",
     "text": [
      "/home/mma/University/master_degree/Machine_Learning/project/final/venv/lib/python3.5/site-packages/sklearn/utils/validation.py:761: DataConversionWarning: A column-vector y was passed when a 1d array was expected. Please change the shape of y to (n_samples, ), for example using ravel().\n  y = column_or_1d(y, warn=True)\n"
     ]
    },
    {
     "name": "stderr",
     "output_type": "stream",
     "text": [
      "/home/mma/University/master_degree/Machine_Learning/project/final/venv/lib/python3.5/site-packages/sklearn/metrics/classification.py:1143: UndefinedMetricWarning: F-score is ill-defined and being set to 0.0 in labels with no predicted samples.\n  'precision', 'predicted', average, warn_for)\n/home/mma/University/master_degree/Machine_Learning/project/final/venv/lib/python3.5/site-packages/sklearn/utils/validation.py:761: DataConversionWarning: A column-vector y was passed when a 1d array was expected. Please change the shape of y to (n_samples, ), for example using ravel().\n  y = column_or_1d(y, warn=True)\n"
     ]
    },
    {
     "name": "stderr",
     "output_type": "stream",
     "text": [
      "/home/mma/University/master_degree/Machine_Learning/project/final/venv/lib/python3.5/site-packages/sklearn/utils/validation.py:761: DataConversionWarning: A column-vector y was passed when a 1d array was expected. Please change the shape of y to (n_samples, ), for example using ravel().\n  y = column_or_1d(y, warn=True)\n"
     ]
    },
    {
     "name": "stderr",
     "output_type": "stream",
     "text": [
      "/home/mma/University/master_degree/Machine_Learning/project/final/venv/lib/python3.5/site-packages/sklearn/metrics/classification.py:1143: UndefinedMetricWarning: F-score is ill-defined and being set to 0.0 in labels with no predicted samples.\n  'precision', 'predicted', average, warn_for)\n/home/mma/University/master_degree/Machine_Learning/project/final/venv/lib/python3.5/site-packages/sklearn/utils/validation.py:761: DataConversionWarning: A column-vector y was passed when a 1d array was expected. Please change the shape of y to (n_samples, ), for example using ravel().\n  y = column_or_1d(y, warn=True)\n"
     ]
    },
    {
     "name": "stderr",
     "output_type": "stream",
     "text": [
      "/home/mma/University/master_degree/Machine_Learning/project/final/venv/lib/python3.5/site-packages/sklearn/metrics/classification.py:1143: UndefinedMetricWarning: F-score is ill-defined and being set to 0.0 in labels with no predicted samples.\n  'precision', 'predicted', average, warn_for)\n"
     ]
    }
   ],
   "source": [
    "from sklearn.ensemble import AdaBoostClassifier\n",
    "best_score = 0\n",
    "for num_estimator in range(50, 80, 10):\n",
    "    for learning_rate in list(map(lambda x: x / 100, range(1, 60, 20))):\n",
    "        print(num_estimator, learning_rate)\n",
    "        clf = AdaBoostClassifier(n_estimators=num_estimator, learning_rate=learning_rate, random_state=20)\n",
    "        scores = cross_val_score(clf, X=X_train, y=Y_train, cv=5, scoring='f1_macro')\n",
    "        if scores.mean() > best_score:\n",
    "            best_score = scores.mean()\n",
    "            best_n_estimator, best_learning_rate = num_estimator, learning_rate\n"
   ]
  },
  {
   "cell_type": "code",
   "execution_count": 15,
   "metadata": {},
   "outputs": [
    {
     "name": "stdout",
     "output_type": "stream",
     "text": [
      "Best n_estimator :  70 Best Learning Rate :  0.41\nF1-Score: 0.45 (+/- 0.13)\n"
     ]
    }
   ],
   "source": [
    "best_n_estimator, best_learning_rate = 104, 0.6\n",
    "print(\"Best n_estimator : \", best_n_estimator, \"Best Learning Rate : \", best_learning_rate)\n",
    "print(\"F1-Score: %0.2f (+/- %0.2f)\" % (scores.mean(), scores.std() * 2))"
   ]
  },
  {
   "cell_type": "code",
   "execution_count": 18,
   "metadata": {},
   "outputs": [
    {
     "name": "stderr",
     "output_type": "stream",
     "text": [
      "/home/mma/University/master_degree/Machine_Learning/project/final/venv/lib/python3.5/site-packages/sklearn/utils/validation.py:761: DataConversionWarning: A column-vector y was passed when a 1d array was expected. Please change the shape of y to (n_samples, ), for example using ravel().\n  y = column_or_1d(y, warn=True)\n"
     ]
    },
    {
     "name": "stderr",
     "output_type": "stream",
     "text": [
      "/home/mma/University/master_degree/Machine_Learning/project/final/venv/lib/python3.5/site-packages/sklearn/utils/validation.py:761: DataConversionWarning: A column-vector y was passed when a 1d array was expected. Please change the shape of y to (n_samples, ), for example using ravel().\n  y = column_or_1d(y, warn=True)\n"
     ]
    },
    {
     "name": "stderr",
     "output_type": "stream",
     "text": [
      "/home/mma/University/master_degree/Machine_Learning/project/final/venv/lib/python3.5/site-packages/sklearn/utils/validation.py:761: DataConversionWarning: A column-vector y was passed when a 1d array was expected. Please change the shape of y to (n_samples, ), for example using ravel().\n  y = column_or_1d(y, warn=True)\n"
     ]
    },
    {
     "name": "stderr",
     "output_type": "stream",
     "text": [
      "/home/mma/University/master_degree/Machine_Learning/project/final/venv/lib/python3.5/site-packages/sklearn/utils/validation.py:761: DataConversionWarning: A column-vector y was passed when a 1d array was expected. Please change the shape of y to (n_samples, ), for example using ravel().\n  y = column_or_1d(y, warn=True)\n"
     ]
    },
    {
     "name": "stderr",
     "output_type": "stream",
     "text": [
      "/home/mma/University/master_degree/Machine_Learning/project/final/venv/lib/python3.5/site-packages/sklearn/utils/validation.py:761: DataConversionWarning: A column-vector y was passed when a 1d array was expected. Please change the shape of y to (n_samples, ), for example using ravel().\n  y = column_or_1d(y, warn=True)\n"
     ]
    }
   ],
   "source": [
    "from sklearn.tree import DecisionTreeClassifier\n",
    "best_n_estimator, best_learning_rate = 104, 0.6\n",
    "adaboost_clf = AdaBoostClassifier(base_estimator=DecisionTreeClassifier(max_depth=4),\n",
    "                                  n_estimators=best_n_estimator, learning_rate=best_learning_rate, random_state=20)\n",
    "scores = cross_val_score(adaboost_clf, X=X_train, y=Y_train, cv=5, scoring='f1_macro')"
   ]
  },
  {
   "cell_type": "code",
   "execution_count": 19,
   "metadata": {},
   "outputs": [
    {
     "name": "stdout",
     "output_type": "stream",
     "text": [
      "Best n_estimator :  104 Best Learning Rate :  0.6\nF1-Score: 0.77 (+/- 0.07)\n"
     ]
    }
   ],
   "source": [
    "\n",
    "print(\"Best n_estimator : \", best_n_estimator, \"Best Learning Rate : \", best_learning_rate)\n",
    "print(\"F1-Score: %0.2f (+/- %0.2f)\" % (scores.mean(), scores.std() * 2))"
   ]
  },
  {
   "cell_type": "markdown",
   "metadata": {},
   "source": [
    "#### Neural Networks"
   ]
  },
  {
   "cell_type": "code",
   "execution_count": 21,
   "metadata": {},
   "outputs": [
    {
     "name": "stderr",
     "output_type": "stream",
     "text": [
      "/home/mma/University/master_degree/Machine_Learning/project/final/venv/lib/python3.5/site-packages/sklearn/neural_network/multilayer_perceptron.py:916: DataConversionWarning: A column-vector y was passed when a 1d array was expected. Please change the shape of y to (n_samples, ), for example using ravel().\n  y = column_or_1d(y, warn=True)\n"
     ]
    },
    {
     "name": "stderr",
     "output_type": "stream",
     "text": [
      "/home/mma/University/master_degree/Machine_Learning/project/final/venv/lib/python3.5/site-packages/sklearn/neural_network/multilayer_perceptron.py:916: DataConversionWarning: A column-vector y was passed when a 1d array was expected. Please change the shape of y to (n_samples, ), for example using ravel().\n  y = column_or_1d(y, warn=True)\n"
     ]
    },
    {
     "name": "stderr",
     "output_type": "stream",
     "text": [
      "/home/mma/University/master_degree/Machine_Learning/project/final/venv/lib/python3.5/site-packages/sklearn/neural_network/multilayer_perceptron.py:916: DataConversionWarning: A column-vector y was passed when a 1d array was expected. Please change the shape of y to (n_samples, ), for example using ravel().\n  y = column_or_1d(y, warn=True)\n"
     ]
    },
    {
     "name": "stderr",
     "output_type": "stream",
     "text": [
      "/home/mma/University/master_degree/Machine_Learning/project/final/venv/lib/python3.5/site-packages/sklearn/neural_network/multilayer_perceptron.py:916: DataConversionWarning: A column-vector y was passed when a 1d array was expected. Please change the shape of y to (n_samples, ), for example using ravel().\n  y = column_or_1d(y, warn=True)\n"
     ]
    },
    {
     "name": "stderr",
     "output_type": "stream",
     "text": [
      "/home/mma/University/master_degree/Machine_Learning/project/final/venv/lib/python3.5/site-packages/sklearn/neural_network/multilayer_perceptron.py:916: DataConversionWarning: A column-vector y was passed when a 1d array was expected. Please change the shape of y to (n_samples, ), for example using ravel().\n  y = column_or_1d(y, warn=True)\n"
     ]
    },
    {
     "name": "stderr",
     "output_type": "stream",
     "text": [
      "/home/mma/University/master_degree/Machine_Learning/project/final/venv/lib/python3.5/site-packages/sklearn/neural_network/multilayer_perceptron.py:916: DataConversionWarning: A column-vector y was passed when a 1d array was expected. Please change the shape of y to (n_samples, ), for example using ravel().\n  y = column_or_1d(y, warn=True)\n"
     ]
    },
    {
     "name": "stderr",
     "output_type": "stream",
     "text": [
      "/home/mma/University/master_degree/Machine_Learning/project/final/venv/lib/python3.5/site-packages/sklearn/neural_network/multilayer_perceptron.py:916: DataConversionWarning: A column-vector y was passed when a 1d array was expected. Please change the shape of y to (n_samples, ), for example using ravel().\n  y = column_or_1d(y, warn=True)\n"
     ]
    },
    {
     "name": "stderr",
     "output_type": "stream",
     "text": [
      "/home/mma/University/master_degree/Machine_Learning/project/final/venv/lib/python3.5/site-packages/sklearn/neural_network/multilayer_perceptron.py:916: DataConversionWarning: A column-vector y was passed when a 1d array was expected. Please change the shape of y to (n_samples, ), for example using ravel().\n  y = column_or_1d(y, warn=True)\n"
     ]
    },
    {
     "name": "stderr",
     "output_type": "stream",
     "text": [
      "/home/mma/University/master_degree/Machine_Learning/project/final/venv/lib/python3.5/site-packages/sklearn/neural_network/multilayer_perceptron.py:916: DataConversionWarning: A column-vector y was passed when a 1d array was expected. Please change the shape of y to (n_samples, ), for example using ravel().\n  y = column_or_1d(y, warn=True)\n"
     ]
    },
    {
     "name": "stderr",
     "output_type": "stream",
     "text": [
      "/home/mma/University/master_degree/Machine_Learning/project/final/venv/lib/python3.5/site-packages/sklearn/neural_network/multilayer_perceptron.py:916: DataConversionWarning: A column-vector y was passed when a 1d array was expected. Please change the shape of y to (n_samples, ), for example using ravel().\n  y = column_or_1d(y, warn=True)\n"
     ]
    },
    {
     "name": "stderr",
     "output_type": "stream",
     "text": [
      "/home/mma/University/master_degree/Machine_Learning/project/final/venv/lib/python3.5/site-packages/sklearn/neural_network/multilayer_perceptron.py:916: DataConversionWarning: A column-vector y was passed when a 1d array was expected. Please change the shape of y to (n_samples, ), for example using ravel().\n  y = column_or_1d(y, warn=True)\n"
     ]
    },
    {
     "name": "stderr",
     "output_type": "stream",
     "text": [
      "/home/mma/University/master_degree/Machine_Learning/project/final/venv/lib/python3.5/site-packages/sklearn/neural_network/multilayer_perceptron.py:916: DataConversionWarning: A column-vector y was passed when a 1d array was expected. Please change the shape of y to (n_samples, ), for example using ravel().\n  y = column_or_1d(y, warn=True)\n"
     ]
    },
    {
     "name": "stderr",
     "output_type": "stream",
     "text": [
      "/home/mma/University/master_degree/Machine_Learning/project/final/venv/lib/python3.5/site-packages/sklearn/neural_network/multilayer_perceptron.py:916: DataConversionWarning: A column-vector y was passed when a 1d array was expected. Please change the shape of y to (n_samples, ), for example using ravel().\n  y = column_or_1d(y, warn=True)\n"
     ]
    },
    {
     "name": "stderr",
     "output_type": "stream",
     "text": [
      "/home/mma/University/master_degree/Machine_Learning/project/final/venv/lib/python3.5/site-packages/sklearn/neural_network/multilayer_perceptron.py:916: DataConversionWarning: A column-vector y was passed when a 1d array was expected. Please change the shape of y to (n_samples, ), for example using ravel().\n  y = column_or_1d(y, warn=True)\n"
     ]
    },
    {
     "name": "stderr",
     "output_type": "stream",
     "text": [
      "/home/mma/University/master_degree/Machine_Learning/project/final/venv/lib/python3.5/site-packages/sklearn/neural_network/multilayer_perceptron.py:916: DataConversionWarning: A column-vector y was passed when a 1d array was expected. Please change the shape of y to (n_samples, ), for example using ravel().\n  y = column_or_1d(y, warn=True)\n"
     ]
    },
    {
     "name": "stderr",
     "output_type": "stream",
     "text": [
      "/home/mma/University/master_degree/Machine_Learning/project/final/venv/lib/python3.5/site-packages/sklearn/neural_network/multilayer_perceptron.py:916: DataConversionWarning: A column-vector y was passed when a 1d array was expected. Please change the shape of y to (n_samples, ), for example using ravel().\n  y = column_or_1d(y, warn=True)\n"
     ]
    },
    {
     "name": "stderr",
     "output_type": "stream",
     "text": [
      "/home/mma/University/master_degree/Machine_Learning/project/final/venv/lib/python3.5/site-packages/sklearn/neural_network/multilayer_perceptron.py:916: DataConversionWarning: A column-vector y was passed when a 1d array was expected. Please change the shape of y to (n_samples, ), for example using ravel().\n  y = column_or_1d(y, warn=True)\n"
     ]
    },
    {
     "name": "stderr",
     "output_type": "stream",
     "text": [
      "/home/mma/University/master_degree/Machine_Learning/project/final/venv/lib/python3.5/site-packages/sklearn/neural_network/multilayer_perceptron.py:916: DataConversionWarning: A column-vector y was passed when a 1d array was expected. Please change the shape of y to (n_samples, ), for example using ravel().\n  y = column_or_1d(y, warn=True)\n"
     ]
    },
    {
     "name": "stderr",
     "output_type": "stream",
     "text": [
      "/home/mma/University/master_degree/Machine_Learning/project/final/venv/lib/python3.5/site-packages/sklearn/neural_network/multilayer_perceptron.py:916: DataConversionWarning: A column-vector y was passed when a 1d array was expected. Please change the shape of y to (n_samples, ), for example using ravel().\n  y = column_or_1d(y, warn=True)\n"
     ]
    },
    {
     "name": "stderr",
     "output_type": "stream",
     "text": [
      "/home/mma/University/master_degree/Machine_Learning/project/final/venv/lib/python3.5/site-packages/sklearn/neural_network/multilayer_perceptron.py:916: DataConversionWarning: A column-vector y was passed when a 1d array was expected. Please change the shape of y to (n_samples, ), for example using ravel().\n  y = column_or_1d(y, warn=True)\n"
     ]
    },
    {
     "name": "stderr",
     "output_type": "stream",
     "text": [
      "/home/mma/University/master_degree/Machine_Learning/project/final/venv/lib/python3.5/site-packages/sklearn/neural_network/multilayer_perceptron.py:916: DataConversionWarning: A column-vector y was passed when a 1d array was expected. Please change the shape of y to (n_samples, ), for example using ravel().\n  y = column_or_1d(y, warn=True)\n"
     ]
    },
    {
     "name": "stderr",
     "output_type": "stream",
     "text": [
      "/home/mma/University/master_degree/Machine_Learning/project/final/venv/lib/python3.5/site-packages/sklearn/neural_network/multilayer_perceptron.py:916: DataConversionWarning: A column-vector y was passed when a 1d array was expected. Please change the shape of y to (n_samples, ), for example using ravel().\n  y = column_or_1d(y, warn=True)\n"
     ]
    },
    {
     "name": "stderr",
     "output_type": "stream",
     "text": [
      "/home/mma/University/master_degree/Machine_Learning/project/final/venv/lib/python3.5/site-packages/sklearn/neural_network/multilayer_perceptron.py:916: DataConversionWarning: A column-vector y was passed when a 1d array was expected. Please change the shape of y to (n_samples, ), for example using ravel().\n  y = column_or_1d(y, warn=True)\n"
     ]
    },
    {
     "name": "stderr",
     "output_type": "stream",
     "text": [
      "/home/mma/University/master_degree/Machine_Learning/project/final/venv/lib/python3.5/site-packages/sklearn/neural_network/multilayer_perceptron.py:916: DataConversionWarning: A column-vector y was passed when a 1d array was expected. Please change the shape of y to (n_samples, ), for example using ravel().\n  y = column_or_1d(y, warn=True)\n"
     ]
    },
    {
     "name": "stderr",
     "output_type": "stream",
     "text": [
      "/home/mma/University/master_degree/Machine_Learning/project/final/venv/lib/python3.5/site-packages/sklearn/neural_network/multilayer_perceptron.py:916: DataConversionWarning: A column-vector y was passed when a 1d array was expected. Please change the shape of y to (n_samples, ), for example using ravel().\n  y = column_or_1d(y, warn=True)\n"
     ]
    },
    {
     "name": "stderr",
     "output_type": "stream",
     "text": [
      "/home/mma/University/master_degree/Machine_Learning/project/final/venv/lib/python3.5/site-packages/sklearn/neural_network/multilayer_perceptron.py:916: DataConversionWarning: A column-vector y was passed when a 1d array was expected. Please change the shape of y to (n_samples, ), for example using ravel().\n  y = column_or_1d(y, warn=True)\n"
     ]
    },
    {
     "name": "stderr",
     "output_type": "stream",
     "text": [
      "/home/mma/University/master_degree/Machine_Learning/project/final/venv/lib/python3.5/site-packages/sklearn/neural_network/multilayer_perceptron.py:916: DataConversionWarning: A column-vector y was passed when a 1d array was expected. Please change the shape of y to (n_samples, ), for example using ravel().\n  y = column_or_1d(y, warn=True)\n"
     ]
    },
    {
     "name": "stderr",
     "output_type": "stream",
     "text": [
      "/home/mma/University/master_degree/Machine_Learning/project/final/venv/lib/python3.5/site-packages/sklearn/neural_network/multilayer_perceptron.py:916: DataConversionWarning: A column-vector y was passed when a 1d array was expected. Please change the shape of y to (n_samples, ), for example using ravel().\n  y = column_or_1d(y, warn=True)\n"
     ]
    },
    {
     "name": "stderr",
     "output_type": "stream",
     "text": [
      "/home/mma/University/master_degree/Machine_Learning/project/final/venv/lib/python3.5/site-packages/sklearn/neural_network/multilayer_perceptron.py:916: DataConversionWarning: A column-vector y was passed when a 1d array was expected. Please change the shape of y to (n_samples, ), for example using ravel().\n  y = column_or_1d(y, warn=True)\n"
     ]
    },
    {
     "name": "stderr",
     "output_type": "stream",
     "text": [
      "/home/mma/University/master_degree/Machine_Learning/project/final/venv/lib/python3.5/site-packages/sklearn/neural_network/multilayer_perceptron.py:916: DataConversionWarning: A column-vector y was passed when a 1d array was expected. Please change the shape of y to (n_samples, ), for example using ravel().\n  y = column_or_1d(y, warn=True)\n"
     ]
    },
    {
     "name": "stderr",
     "output_type": "stream",
     "text": [
      "/home/mma/University/master_degree/Machine_Learning/project/final/venv/lib/python3.5/site-packages/sklearn/neural_network/multilayer_perceptron.py:916: DataConversionWarning: A column-vector y was passed when a 1d array was expected. Please change the shape of y to (n_samples, ), for example using ravel().\n  y = column_or_1d(y, warn=True)\n"
     ]
    },
    {
     "name": "stderr",
     "output_type": "stream",
     "text": [
      "/home/mma/University/master_degree/Machine_Learning/project/final/venv/lib/python3.5/site-packages/sklearn/neural_network/multilayer_perceptron.py:916: DataConversionWarning: A column-vector y was passed when a 1d array was expected. Please change the shape of y to (n_samples, ), for example using ravel().\n  y = column_or_1d(y, warn=True)\n"
     ]
    },
    {
     "name": "stderr",
     "output_type": "stream",
     "text": [
      "/home/mma/University/master_degree/Machine_Learning/project/final/venv/lib/python3.5/site-packages/sklearn/neural_network/multilayer_perceptron.py:916: DataConversionWarning: A column-vector y was passed when a 1d array was expected. Please change the shape of y to (n_samples, ), for example using ravel().\n  y = column_or_1d(y, warn=True)\n"
     ]
    },
    {
     "name": "stderr",
     "output_type": "stream",
     "text": [
      "/home/mma/University/master_degree/Machine_Learning/project/final/venv/lib/python3.5/site-packages/sklearn/neural_network/multilayer_perceptron.py:916: DataConversionWarning: A column-vector y was passed when a 1d array was expected. Please change the shape of y to (n_samples, ), for example using ravel().\n  y = column_or_1d(y, warn=True)\n"
     ]
    },
    {
     "name": "stderr",
     "output_type": "stream",
     "text": [
      "/home/mma/University/master_degree/Machine_Learning/project/final/venv/lib/python3.5/site-packages/sklearn/neural_network/multilayer_perceptron.py:916: DataConversionWarning: A column-vector y was passed when a 1d array was expected. Please change the shape of y to (n_samples, ), for example using ravel().\n  y = column_or_1d(y, warn=True)\n"
     ]
    },
    {
     "name": "stderr",
     "output_type": "stream",
     "text": [
      "/home/mma/University/master_degree/Machine_Learning/project/final/venv/lib/python3.5/site-packages/sklearn/neural_network/multilayer_perceptron.py:916: DataConversionWarning: A column-vector y was passed when a 1d array was expected. Please change the shape of y to (n_samples, ), for example using ravel().\n  y = column_or_1d(y, warn=True)\n"
     ]
    },
    {
     "name": "stderr",
     "output_type": "stream",
     "text": [
      "/home/mma/University/master_degree/Machine_Learning/project/final/venv/lib/python3.5/site-packages/sklearn/neural_network/multilayer_perceptron.py:916: DataConversionWarning: A column-vector y was passed when a 1d array was expected. Please change the shape of y to (n_samples, ), for example using ravel().\n  y = column_or_1d(y, warn=True)\n"
     ]
    },
    {
     "name": "stderr",
     "output_type": "stream",
     "text": [
      "/home/mma/University/master_degree/Machine_Learning/project/final/venv/lib/python3.5/site-packages/sklearn/neural_network/multilayer_perceptron.py:916: DataConversionWarning: A column-vector y was passed when a 1d array was expected. Please change the shape of y to (n_samples, ), for example using ravel().\n  y = column_or_1d(y, warn=True)\n"
     ]
    },
    {
     "name": "stderr",
     "output_type": "stream",
     "text": [
      "/home/mma/University/master_degree/Machine_Learning/project/final/venv/lib/python3.5/site-packages/sklearn/neural_network/multilayer_perceptron.py:916: DataConversionWarning: A column-vector y was passed when a 1d array was expected. Please change the shape of y to (n_samples, ), for example using ravel().\n  y = column_or_1d(y, warn=True)\n"
     ]
    },
    {
     "name": "stderr",
     "output_type": "stream",
     "text": [
      "/home/mma/University/master_degree/Machine_Learning/project/final/venv/lib/python3.5/site-packages/sklearn/neural_network/multilayer_perceptron.py:916: DataConversionWarning: A column-vector y was passed when a 1d array was expected. Please change the shape of y to (n_samples, ), for example using ravel().\n  y = column_or_1d(y, warn=True)\n"
     ]
    },
    {
     "name": "stderr",
     "output_type": "stream",
     "text": [
      "/home/mma/University/master_degree/Machine_Learning/project/final/venv/lib/python3.5/site-packages/sklearn/neural_network/multilayer_perceptron.py:916: DataConversionWarning: A column-vector y was passed when a 1d array was expected. Please change the shape of y to (n_samples, ), for example using ravel().\n  y = column_or_1d(y, warn=True)\n"
     ]
    },
    {
     "name": "stderr",
     "output_type": "stream",
     "text": [
      "/home/mma/University/master_degree/Machine_Learning/project/final/venv/lib/python3.5/site-packages/sklearn/neural_network/multilayer_perceptron.py:916: DataConversionWarning: A column-vector y was passed when a 1d array was expected. Please change the shape of y to (n_samples, ), for example using ravel().\n  y = column_or_1d(y, warn=True)\n"
     ]
    },
    {
     "name": "stderr",
     "output_type": "stream",
     "text": [
      "/home/mma/University/master_degree/Machine_Learning/project/final/venv/lib/python3.5/site-packages/sklearn/neural_network/multilayer_perceptron.py:916: DataConversionWarning: A column-vector y was passed when a 1d array was expected. Please change the shape of y to (n_samples, ), for example using ravel().\n  y = column_or_1d(y, warn=True)\n"
     ]
    },
    {
     "name": "stderr",
     "output_type": "stream",
     "text": [
      "/home/mma/University/master_degree/Machine_Learning/project/final/venv/lib/python3.5/site-packages/sklearn/neural_network/multilayer_perceptron.py:916: DataConversionWarning: A column-vector y was passed when a 1d array was expected. Please change the shape of y to (n_samples, ), for example using ravel().\n  y = column_or_1d(y, warn=True)\n"
     ]
    },
    {
     "name": "stderr",
     "output_type": "stream",
     "text": [
      "/home/mma/University/master_degree/Machine_Learning/project/final/venv/lib/python3.5/site-packages/sklearn/neural_network/multilayer_perceptron.py:916: DataConversionWarning: A column-vector y was passed when a 1d array was expected. Please change the shape of y to (n_samples, ), for example using ravel().\n  y = column_or_1d(y, warn=True)\n"
     ]
    }
   ],
   "source": [
    "from sklearn.neural_network import MLPClassifier\n",
    "best_score = 0\n",
    "for hidden_layer_size in range(46, 62, 5):\n",
    "    for max_iter in [500, 1000]:\n",
    "        clf = MLPClassifier(hidden_layer_sizes=hidden_layer_size, activation='tanh',\n",
    "                            alpha=0, max_iter=max_iter)\n",
    "        scores = cross_val_score(clf, X=X_train, y=Y_train, cv=5, scoring='f1_macro')\n",
    "        if scores.mean() > best_score:\n",
    "            best_score = scores.mean()\n",
    "            best_layer_size, best_max_iter = hidden_layer_size, max_iter\n",
    "NN_clf = MLPClassifier(hidden_layer_sizes=best_layer_size, activation='tanh',\n",
    "                       alpha=0, max_iter=best_max_iter)\n",
    "scores = cross_val_score(NN_clf, X=X_train, y=Y_train, cv=5, scoring='f1_macro')"
   ]
  },
  {
   "cell_type": "code",
   "execution_count": 22,
   "metadata": {},
   "outputs": [
    {
     "name": "stdout",
     "output_type": "stream",
     "text": [
      "Best hidden layer size :  61 Best Max Iteration :  500\nF1-Score: 0.87 (+/- 0.04)\n"
     ]
    }
   ],
   "source": [
    "print(\"Best hidden layer size : \", best_layer_size, \"Best Max Iteration : \", best_max_iter)\n",
    "print(\"F1-Score: %0.2f (+/- %0.2f)\" % (scores.mean(), scores.std() * 2))"
   ]
  },
  {
   "cell_type": "markdown",
   "metadata": {},
   "source": [
    "#### input size effect investigation"
   ]
  },
  {
   "cell_type": "code",
   "execution_count": 46,
   "metadata": {},
   "outputs": [],
   "source": [
    "from sklearn.model_selection import train_test_split\n",
    "from sklearn.metrics import accuracy_score\n",
    "X_train_temp, X_test_temp, Y_train_temp, Y_test_temp = train_test_split(X_train, Y_train, test_size=0.10)\n",
    "training_set_size = len(X_train_temp)\n",
    "k_set = [5, 10, 20, 50, 100]"
   ]
  },
  {
   "cell_type": "markdown",
   "metadata": {},
   "source": [
    "##### Logistic Regression"
   ]
  },
  {
   "cell_type": "code",
   "execution_count": 54,
   "metadata": {},
   "outputs": [
    {
     "name": "stdout",
     "output_type": "stream",
     "text": [
      "K =  5  => Score =  0.9027181688125894\n"
     ]
    },
    {
     "name": "stdout",
     "output_type": "stream",
     "text": [
      "K =  10  => Score =  0.9241773962804005\n"
     ]
    },
    {
     "name": "stdout",
     "output_type": "stream",
     "text": [
      "K =  20  => Score =  0.9556509298998569\n"
     ]
    },
    {
     "name": "stdout",
     "output_type": "stream",
     "text": [
      "K =  50  => Score =  0.9699570815450643\n"
     ]
    },
    {
     "name": "stdout",
     "output_type": "stream",
     "text": [
      "K =  100  => Score =  0.9799713876967096\n"
     ]
    }
   ],
   "source": [
    "import warnings\n",
    "warnings.filterwarnings('ignore')\n",
    "\n",
    "for k in k_set:\n",
    "    log_reg_clf.fit(X_train_temp[:int(k/100*training_set_size)],\n",
    "                    Y_train_temp[:int(k/100*training_set_size)])\n",
    "    y_predict = log_reg_clf.predict(X_test_temp)\n",
    "    score = accuracy_score(Y_test_temp, y_predict)\n",
    "    print(\"K = \", k, \" => Score = \", score)"
   ]
  },
  {
   "cell_type": "markdown",
   "metadata": {},
   "source": [
    "##### Random Forest"
   ]
  },
  {
   "cell_type": "code",
   "execution_count": 55,
   "metadata": {},
   "outputs": [
    {
     "name": "stdout",
     "output_type": "stream",
     "text": [
      "K =  5  => Score =  0.8669527896995708\nK =  10  => Score =  0.8898426323319027\n"
     ]
    },
    {
     "name": "stdout",
     "output_type": "stream",
     "text": [
      "K =  20  => Score =  0.9070100143061517\n"
     ]
    },
    {
     "name": "stdout",
     "output_type": "stream",
     "text": [
      "K =  50  => Score =  0.9313304721030042\n"
     ]
    },
    {
     "name": "stdout",
     "output_type": "stream",
     "text": [
      "K =  100  => Score =  0.9298998569384835\n"
     ]
    }
   ],
   "source": [
    "import warnings\n",
    "warnings.filterwarnings('ignore')\n",
    "\n",
    "for k in k_set:\n",
    "    rand_forest_clf.fit(X_train_temp[:int(k/100*training_set_size)],\n",
    "                        Y_train_temp[:int(k/100*training_set_size)])\n",
    "    y_predict = rand_forest_clf.predict(X_test_temp)\n",
    "    score = accuracy_score(Y_test_temp, y_predict)\n",
    "    print(\"K = \", k, \" => Score = \", score)"
   ]
  },
  {
   "cell_type": "markdown",
   "metadata": {},
   "source": [
    "##### SVM"
   ]
  },
  {
   "cell_type": "code",
   "execution_count": 56,
   "metadata": {},
   "outputs": [
    {
     "name": "stdout",
     "output_type": "stream",
     "text": [
      "K =  5  => Score =  0.8955650929899857\n"
     ]
    },
    {
     "name": "stdout",
     "output_type": "stream",
     "text": [
      "K =  10  => Score =  0.9084406294706724\n"
     ]
    },
    {
     "name": "stdout",
     "output_type": "stream",
     "text": [
      "K =  20  => Score =  0.9384835479256081\n"
     ]
    },
    {
     "name": "stdout",
     "output_type": "stream",
     "text": [
      "K =  50  => Score =  0.9613733905579399\n"
     ]
    },
    {
     "name": "stdout",
     "output_type": "stream",
     "text": [
      "K =  100  => Score =  0.9685264663805436\n"
     ]
    }
   ],
   "source": [
    "import warnings\n",
    "warnings.filterwarnings('ignore')\n",
    "\n",
    "for k in k_set:\n",
    "    svm_clf.fit(X_train_temp[:int(k/100*training_set_size)],\n",
    "                Y_train_temp[:int(k/100*training_set_size)])\n",
    "    y_predict = svm_clf.predict(X_test_temp)\n",
    "    score = accuracy_score(Y_test_temp, y_predict)\n",
    "    print(\"K = \", k, \" => Score = \", score)"
   ]
  },
  {
   "cell_type": "markdown",
   "metadata": {},
   "source": [
    "##### Adaboost"
   ]
  },
  {
   "cell_type": "code",
   "execution_count": 57,
   "metadata": {},
   "outputs": [
    {
     "name": "stdout",
     "output_type": "stream",
     "text": [
      "K =  5  => Score =  0.8955650929899857\n"
     ]
    },
    {
     "name": "stdout",
     "output_type": "stream",
     "text": [
      "K =  10  => Score =  0.8683834048640916\n"
     ]
    },
    {
     "name": "stdout",
     "output_type": "stream",
     "text": [
      "K =  20  => Score =  0.8783977110157367\n"
     ]
    },
    {
     "name": "stdout",
     "output_type": "stream",
     "text": [
      "K =  50  => Score =  0.8798283261802575\n"
     ]
    },
    {
     "name": "stdout",
     "output_type": "stream",
     "text": [
      "K =  100  => Score =  0.8340486409155937\n"
     ]
    }
   ],
   "source": [
    "import warnings\n",
    "warnings.filterwarnings('ignore')\n",
    "\n",
    "for k in k_set:\n",
    "    adaboost_clf.fit(X_train_temp[:int(k/100*training_set_size)],\n",
    "                     Y_train_temp[:int(k/100*training_set_size)])\n",
    "    y_predict = adaboost_clf.predict(X_test_temp)\n",
    "    score = accuracy_score(Y_test_temp, y_predict)\n",
    "    print(\"K = \", k, \" => Score = \", score)"
   ]
  },
  {
   "cell_type": "markdown",
   "metadata": {},
   "source": [
    "##### Neural Network"
   ]
  },
  {
   "cell_type": "code",
   "execution_count": 58,
   "metadata": {},
   "outputs": [
    {
     "name": "stdout",
     "output_type": "stream",
     "text": [
      "K =  5  => Score =  0.8841201716738197\n"
     ]
    },
    {
     "name": "stdout",
     "output_type": "stream",
     "text": [
      "K =  10  => Score =  0.9055793991416309\n"
     ]
    },
    {
     "name": "stdout",
     "output_type": "stream",
     "text": [
      "K =  20  => Score =  0.9384835479256081\n"
     ]
    },
    {
     "name": "stdout",
     "output_type": "stream",
     "text": [
      "K =  50  => Score =  0.9642346208869814\n"
     ]
    },
    {
     "name": "stdout",
     "output_type": "stream",
     "text": [
      "K =  100  => Score =  0.9642346208869814\n"
     ]
    }
   ],
   "source": [
    "import warnings\n",
    "warnings.filterwarnings('ignore')\n",
    "\n",
    "for k in k_set:\n",
    "    NN_clf.fit(X_train_temp[:int(k/100*training_set_size)],\n",
    "               Y_train_temp[:int(k/100*training_set_size)])\n",
    "    y_predict = NN_clf.predict(X_test_temp)\n",
    "    score = accuracy_score(Y_test_temp, y_predict)\n",
    "    print(\"K = \", k, \" => Score = \", score)"
   ]
  },
  {
   "cell_type": "markdown",
   "metadata": {},
   "source": [
    "##### Feature Selection"
   ]
  },
  {
   "cell_type": "code",
   "execution_count": 67,
   "metadata": {},
   "outputs": [],
   "source": [
    "from sklearn.metrics import accuracy_score\n",
    "X_train_temp, X_test_temp, Y_train_temp, Y_test_temp = train_test_split(X_train, Y_train, test_size=0.1)\n",
    "l_set = [5, 10, 50, 100, 561]"
   ]
  },
  {
   "cell_type": "markdown",
   "metadata": {},
   "source": [
    "###### Logistic Regression"
   ]
  },
  {
   "cell_type": "code",
   "execution_count": 69,
   "metadata": {},
   "outputs": [
    {
     "name": "stdout",
     "output_type": "stream",
     "text": [
      " L =  5  => Score =  0.6094420600858369\n"
     ]
    },
    {
     "name": "stdout",
     "output_type": "stream",
     "text": [
      " L =  10  => Score =  0.6394849785407726\n"
     ]
    },
    {
     "name": "stdout",
     "output_type": "stream",
     "text": [
      " L =  50  => Score =  0.8726752503576538\n"
     ]
    },
    {
     "name": "stdout",
     "output_type": "stream",
     "text": [
      " L =  100  => Score =  0.932761087267525\n"
     ]
    },
    {
     "name": "stdout",
     "output_type": "stream",
     "text": [
      " L =  561  => Score =  0.9713876967095851\n"
     ]
    }
   ],
   "source": [
    "from sklearn.feature_selection import mutual_info_classif, SelectKBest\n",
    "for l in l_set:\n",
    "    selector = SelectKBest(mutual_info_classif, k=l)\n",
    "    X_train_new = selector.fit_transform(X_train_temp, Y_train_temp)\n",
    "    log_reg_clf.fit(X_train_new, Y_train_temp)\n",
    "    y_predict = log_reg_clf.predict(selector.transform(X_test_temp))\n",
    "    score = accuracy_score(Y_test_temp, y_predict)\n",
    "    print(\" L = \", l, \" => Score = \", score)"
   ]
  },
  {
   "cell_type": "code",
   "execution_count": 72,
   "metadata": {},
   "outputs": [
    {
     "name": "stdout",
     "output_type": "stream",
     "text": [
      " L =  5  => Score =  0.7825464949928469\n"
     ]
    },
    {
     "name": "stdout",
     "output_type": "stream",
     "text": [
      " L =  10  => Score =  0.8655221745350501\n"
     ]
    },
    {
     "name": "stdout",
     "output_type": "stream",
     "text": [
      " L =  50  => Score =  0.9556509298998569\n"
     ]
    },
    {
     "name": "stdout",
     "output_type": "stream",
     "text": [
      " L =  100  => Score =  0.9699570815450643\n"
     ]
    },
    {
     "name": "stdout",
     "output_type": "stream",
     "text": [
      " L =  561  => Score =  0.977110157367668\n"
     ]
    }
   ],
   "source": [
    "from sklearn.feature_selection import SelectFromModel\n",
    "for l in l_set:\n",
    "    selector = SelectFromModel(log_reg_clf, prefit=False, max_features=l)\n",
    "    X_train_new = selector.fit_transform(X_train_temp, Y_train_temp)\n",
    "    log_reg_clf.fit(X_train_new, Y_train_temp)\n",
    "    y_predict = log_reg_clf.predict(selector.transform(X_test_temp))\n",
    "    score = accuracy_score(Y_test_temp, y_predict)\n",
    "    print(\" L = \", l, \" => Score = \", score)"
   ]
  },
  {
   "cell_type": "markdown",
   "metadata": {},
   "source": [
    "For Logistic regression selectFromModel method is better than the other. With 10 feature we can obtain a high score about 80 percent."
   ]
  },
  {
   "cell_type": "markdown",
   "metadata": {},
   "source": [
    "###### Random Forest"
   ]
  },
  {
   "cell_type": "code",
   "execution_count": 73,
   "metadata": {},
   "outputs": [
    {
     "name": "stdout",
     "output_type": "stream",
     "text": [
      " L =  5  => Score =  0.6680972818311874\n"
     ]
    },
    {
     "name": "stdout",
     "output_type": "stream",
     "text": [
      " L =  10  => Score =  0.65379113018598\n"
     ]
    },
    {
     "name": "stdout",
     "output_type": "stream",
     "text": [
      " L =  50  => Score =  0.8698140200286123\n"
     ]
    },
    {
     "name": "stdout",
     "output_type": "stream",
     "text": [
      " L =  100  => Score =  0.9198855507868383\n"
     ]
    },
    {
     "name": "stdout",
     "output_type": "stream",
     "text": [
      " L =  561  => Score =  0.9456366237482118\n"
     ]
    }
   ],
   "source": [
    "from sklearn.feature_selection import mutual_info_classif, SelectKBest\n",
    "for l in l_set:\n",
    "    selector = SelectKBest(mutual_info_classif, k=l)\n",
    "    X_train_new = selector.fit_transform(X_train_temp, Y_train_temp)\n",
    "    rand_forest_clf.fit(X_train_new, Y_train_temp)\n",
    "    y_predict = rand_forest_clf.predict(selector.transform(X_test_temp))\n",
    "    score = accuracy_score(Y_test_temp, y_predict)\n",
    "    print(\" L = \", l, \" => Score = \", score)"
   ]
  },
  {
   "cell_type": "code",
   "execution_count": 74,
   "metadata": {},
   "outputs": [
    {
     "name": "stdout",
     "output_type": "stream",
     "text": [
      " L =  5  => Score =  0.8140200286123033\n"
     ]
    },
    {
     "name": "stdout",
     "output_type": "stream",
     "text": [
      " L =  10  => Score =  0.882689556509299\n"
     ]
    },
    {
     "name": "stdout",
     "output_type": "stream",
     "text": [
      " L =  50  => Score =  0.9298998569384835\n"
     ]
    },
    {
     "name": "stdout",
     "output_type": "stream",
     "text": [
      " L =  100  => Score =  0.9313304721030042\n"
     ]
    },
    {
     "name": "stdout",
     "output_type": "stream",
     "text": [
      " L =  561  => Score =  0.9399141630901288\n"
     ]
    }
   ],
   "source": [
    "from sklearn.feature_selection import SelectFromModel\n",
    "for l in l_set:\n",
    "    selector = SelectFromModel(log_reg_clf, prefit=False, max_features=l)\n",
    "    X_train_new = selector.fit_transform(X_train_temp, Y_train_temp)\n",
    "    rand_forest_clf.fit(X_train_new, Y_train_temp)\n",
    "    y_predict = rand_forest_clf.predict(selector.transform(X_test_temp))\n",
    "    score = accuracy_score(Y_test_temp, y_predict)\n",
    "    print(\" L = \", l, \" => Score = \", score)"
   ]
  },
  {
   "cell_type": "markdown",
   "metadata": {},
   "source": [
    "As we expected SelectFromModel is better than mutual info because selection from model is a specific method for this model but mutual info is a general method."
   ]
  },
  {
   "cell_type": "markdown",
   "metadata": {},
   "source": [
    "###### SVM"
   ]
  },
  {
   "cell_type": "code",
   "execution_count": 75,
   "metadata": {},
   "outputs": [
    {
     "name": "stdout",
     "output_type": "stream",
     "text": [
      " L =  5  => Score =  0.51931330472103\n"
     ]
    },
    {
     "name": "stdout",
     "output_type": "stream",
     "text": [
      " L =  10  => Score =  0.5264663805436338\n"
     ]
    },
    {
     "name": "stdout",
     "output_type": "stream",
     "text": [
      " L =  50  => Score =  0.8354792560801144\n"
     ]
    },
    {
     "name": "stdout",
     "output_type": "stream",
     "text": [
      " L =  100  => Score =  0.8969957081545065\n"
     ]
    },
    {
     "name": "stdout",
     "output_type": "stream",
     "text": [
      " L =  561  => Score =  0.9670958512160229\n"
     ]
    }
   ],
   "source": [
    "from sklearn.feature_selection import mutual_info_classif, SelectKBest\n",
    "for l in l_set:\n",
    "    selector = SelectKBest(mutual_info_classif, k=l)\n",
    "    X_train_new = selector.fit_transform(X_train_temp, Y_train_temp)\n",
    "    svm_clf.fit(X_train_new, Y_train_temp)\n",
    "    y_predict = svm_clf.predict(selector.transform(X_test_temp))\n",
    "    score = accuracy_score(Y_test_temp, y_predict)\n",
    "    print(\" L = \", l, \" => Score = \", score)"
   ]
  },
  {
   "cell_type": "code",
   "execution_count": 76,
   "metadata": {},
   "outputs": [
    {
     "name": "stdout",
     "output_type": "stream",
     "text": [
      " L =  5  => Score =  0.7310443490701002\n"
     ]
    },
    {
     "name": "stdout",
     "output_type": "stream",
     "text": [
      " L =  10  => Score =  0.8354792560801144\n"
     ]
    },
    {
     "name": "stdout",
     "output_type": "stream",
     "text": [
      " L =  50  => Score =  0.9470672389127325\n"
     ]
    },
    {
     "name": "stdout",
     "output_type": "stream",
     "text": [
      " L =  100  => Score =  0.9670958512160229\n"
     ]
    },
    {
     "name": "stdout",
     "output_type": "stream",
     "text": [
      " L =  561  => Score =  0.9699570815450643\n"
     ]
    }
   ],
   "source": [
    "from sklearn.feature_selection import SelectFromModel\n",
    "for l in l_set:\n",
    "    selector = SelectFromModel(log_reg_clf, prefit=False, max_features=l)\n",
    "    X_train_new = selector.fit_transform(X_train_temp, Y_train_temp)\n",
    "    svm_clf.fit(X_train_new, Y_train_temp)\n",
    "    y_predict = svm_clf.predict(selector.transform(X_test_temp))\n",
    "    score = accuracy_score(Y_test_temp, y_predict)\n",
    "    print(\" L = \", l, \" => Score = \", score)"
   ]
  },
  {
   "cell_type": "markdown",
   "metadata": {},
   "source": [
    "###### AdaBoost"
   ]
  },
  {
   "cell_type": "code",
   "execution_count": 77,
   "metadata": {},
   "outputs": [
    {
     "name": "stdout",
     "output_type": "stream",
     "text": [
      " L =  5  => Score =  0.4206008583690987\n"
     ]
    },
    {
     "name": "stdout",
     "output_type": "stream",
     "text": [
      " L =  10  => Score =  0.3977110157367668\n"
     ]
    },
    {
     "name": "stdout",
     "output_type": "stream",
     "text": [
      " L =  50  => Score =  0.7510729613733905\n"
     ]
    },
    {
     "name": "stdout",
     "output_type": "stream",
     "text": [
      " L =  100  => Score =  0.8783977110157367\n"
     ]
    },
    {
     "name": "stdout",
     "output_type": "stream",
     "text": [
      " L =  561  => Score =  0.8540772532188842\n"
     ]
    }
   ],
   "source": [
    "from sklearn.feature_selection import mutual_info_classif, SelectKBest\n",
    "for l in l_set:\n",
    "    selector = SelectKBest(mutual_info_classif, k=l)\n",
    "    X_train_new = selector.fit_transform(X_train_temp, Y_train_temp)\n",
    "    adaboost_clf.fit(X_train_new, Y_train_temp)\n",
    "    y_predict = adaboost_clf.predict(selector.transform(X_test_temp))\n",
    "    score = accuracy_score(Y_test_temp, y_predict)\n",
    "    print(\" L = \", l, \" => Score = \", score)"
   ]
  },
  {
   "cell_type": "code",
   "execution_count": 78,
   "metadata": {},
   "outputs": [
    {
     "name": "stdout",
     "output_type": "stream",
     "text": [
      " L =  5  => Score =  0.753934191702432\n"
     ]
    },
    {
     "name": "stdout",
     "output_type": "stream",
     "text": [
      " L =  10  => Score =  0.8555078683834049\n"
     ]
    },
    {
     "name": "stdout",
     "output_type": "stream",
     "text": [
      " L =  50  => Score =  0.876967095851216\n"
     ]
    },
    {
     "name": "stdout",
     "output_type": "stream",
     "text": [
      " L =  100  => Score =  0.8698140200286123\n"
     ]
    },
    {
     "name": "stdout",
     "output_type": "stream",
     "text": [
      " L =  561  => Score =  0.8555078683834049\n"
     ]
    }
   ],
   "source": [
    "from sklearn.feature_selection import SelectFromModel\n",
    "for l in l_set:\n",
    "    selector = SelectFromModel(log_reg_clf, prefit=False, max_features=l)\n",
    "    X_train_new = selector.fit_transform(X_train_temp, Y_train_temp)\n",
    "    adaboost_clf.fit(X_train_new, Y_train_temp)\n",
    "    y_predict = adaboost_clf.predict(selector.transform(X_test_temp))\n",
    "    score = accuracy_score(Y_test_temp, y_predict)\n",
    "    print(\" L = \", l, \" => Score = \", score)"
   ]
  },
  {
   "cell_type": "markdown",
   "metadata": {},
   "source": [
    "##### Part 5"
   ]
  },
  {
   "cell_type": "code",
   "execution_count": 65,
   "metadata": {},
   "outputs": [
    {
     "name": "stdout",
     "output_type": "stream",
     "text": [
      "Score =  0.9713876967095851\n"
     ]
    }
   ],
   "source": [
    "from sklearn.discriminant_analysis import LinearDiscriminantAnalysis as LDA\n",
    "X_train_temp, X_test_temp, Y_train_temp, Y_test_temp = train_test_split(X_train, Y_train, test_size=0.10)\n",
    "lda = LDA(n_components=10)\n",
    "X_train_temp_new = lda.fit_transform(X_train_temp, Y_train_temp)\n",
    "NN_clf.fit(X_train_temp_new, Y_train_temp)\n",
    "X_test_temp_new = lda.transform(X_test_temp)\n",
    "y_predict = NN_clf.predict(X_test_temp_new)\n",
    "score = accuracy_score(Y_test_temp, y_predict)\n",
    "print(\"Score = \", score)"
   ]
  },
  {
   "cell_type": "markdown",
   "metadata": {},
   "source": [
    "### Clustering"
   ]
  },
  {
   "cell_type": "markdown",
   "metadata": {},
   "source": [
    "#### Kmeans"
   ]
  },
  {
   "cell_type": "code",
   "execution_count": 39,
   "metadata": {},
   "outputs": [],
   "source": [
    "from sklearn.cluster import KMeans\n",
    "from sklearn.metrics.cluster import adjusted_rand_score\n",
    "kmeans = KMeans(n_clusters=12, max_iter=600, init='random', random_state=None).fit(X_train)"
   ]
  },
  {
   "cell_type": "code",
   "execution_count": 40,
   "metadata": {},
   "outputs": [
    {
     "data": {
      "text/plain": [
       "0.3947402986394187"
      ]
     },
     "execution_count": 40,
     "metadata": {},
     "output_type": "execute_result"
    }
   ],
   "source": [
    "y_predict = kmeans.predict(X_train)\n",
    "adjusted_rand_score(y_predict, np.asarray(Y_train).flatten())"
   ]
  },
  {
   "cell_type": "code",
   "execution_count": 41,
   "metadata": {},
   "outputs": [
    {
     "data": {
      "text/plain": [
       "0.4288872426434519"
      ]
     },
     "execution_count": 41,
     "metadata": {},
     "output_type": "execute_result"
    }
   ],
   "source": [
    "from sklearn import mixture\n",
    "gmm = mixture.GaussianMixture(n_components=12, covariance_type='full', n_init=10).fit(X_train)\n",
    "y_predict = gmm.predict(X_train)\n",
    "adjusted_rand_score(y_predict, np.asarray(Y_train).flatten())"
   ]
  },
  {
   "cell_type": "code",
   "execution_count": 42,
   "metadata": {},
   "outputs": [
    {
     "data": {
      "text/plain": [
       "0.329737528421724"
      ]
     },
     "execution_count": 42,
     "metadata": {},
     "output_type": "execute_result"
    }
   ],
   "source": [
    "gmm_diag = mixture.GaussianMixture(n_components=12, covariance_type='diag', n_init=10).fit(X_train)\n",
    "y_predict = gmm_diag.predict(X_train)\n",
    "adjusted_rand_score(y_predict, np.asarray(Y_train).flatten())"
   ]
  },
  {
   "cell_type": "code",
   "execution_count": 43,
   "metadata": {},
   "outputs": [
    {
     "data": {
      "text/plain": [
       "0.5821367267366572"
      ]
     },
     "execution_count": 43,
     "metadata": {},
     "output_type": "execute_result"
    }
   ],
   "source": [
    "gmm_tied = mixture.GaussianMixture(n_components=12, covariance_type='tied', n_init=10).fit(X_train)\n",
    "y_predict = gmm_tied.predict(X_train)\n",
    "adjusted_rand_score(y_predict, np.asarray(Y_train).flatten())"
   ]
  },
  {
   "cell_type": "code",
   "execution_count": 44,
   "metadata": {},
   "outputs": [
    {
     "data": {
      "text/plain": [
       "0.37655228572093974"
      ]
     },
     "execution_count": 44,
     "metadata": {},
     "output_type": "execute_result"
    }
   ],
   "source": [
    "gmm_spherical = mixture.GaussianMixture(n_components=12, covariance_type='spherical', n_init=10).fit(X_train)\n",
    "y_predict = gmm_spherical.predict(X_train)\n",
    "adjusted_rand_score(y_predict, np.asarray(Y_train).flatten())"
   ]
  },
  {
   "cell_type": "code",
   "execution_count": null,
   "metadata": {},
   "outputs": [],
   "source": []
  }
 ],
 "metadata": {
  "kernelspec": {
   "display_name": "Python 2",
   "language": "python",
   "name": "python2"
  },
  "language_info": {
   "codemirror_mode": {
    "name": "ipython",
    "version": 2
   },
   "file_extension": ".py",
   "mimetype": "text/x-python",
   "name": "python",
   "nbconvert_exporter": "python",
   "pygments_lexer": "ipython2",
   "version": "2.7.6"
  }
 },
 "nbformat": 4,
 "nbformat_minor": 0
}
